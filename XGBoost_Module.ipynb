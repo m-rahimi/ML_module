{
 "cells": [
  {
   "cell_type": "code",
   "execution_count": 1,
   "metadata": {
    "collapsed": true
   },
   "outputs": [],
   "source": [
    "%matplotlib inline\n",
    "import numpy as np\n",
    "import matplotlib.pyplot as plt"
   ]
  },
  {
   "cell_type": "code",
   "execution_count": 91,
   "metadata": {
    "collapsed": true
   },
   "outputs": [],
   "source": [
    "'''\n",
    "XGBOOST module\n",
    "\n",
    "the module can be use for both classification and regression problem the appropriate objective method should be defined.\n",
    "more information can be find here\n",
    "https://github.com/dmlc/xgboost/blob/master/doc/parameter.md\n",
    "\n",
    "User can define a customized objective function and evaluation function\n",
    "\n",
    "optimization with grid search is easy first make a grid\n",
    "\n",
    "make_grid(eta = [1, 2, 3], max_depth = [3, 4, 5])\n",
    "\n",
    "then run the optimization\n",
    "optimization(self, X, y, X_test, y_test, verbose_eval = False, num_boost_round = None, early_stopping = 2)\n",
    "\n",
    "to see the result and select best parameters\n",
    "scores()\n",
    "\n",
    "\n",
    "get the importance features and plot them is another awesome part of this module :)\n",
    "\n",
    "get_importance()\n",
    "plot_importance()\n",
    "\n",
    "\n",
    "'''\n",
    "import xgboost as xgb\n",
    "import pandas as pd\n",
    "from skopt.space import Real, Integer\n",
    "from skopt.utils import use_named_args\n",
    "from skopt import gp_minimize\n",
    "from skopt.plots import plot_convergence\n",
    "import matplotlib.pyplot as plt\n",
    "import seaborn as sns\n",
    "import warnings\n",
    "from tqdm import tqdm\n",
    "\n",
    "color = sns.color_palette()\n",
    "\n",
    "class XGBoost(object):\n",
    "    def __init__(self, num_boost_round=10, objective=None, feval=None, **kwargs):\n",
    "        self.clf = None\n",
    "        self.grid_params = None\n",
    "        self.result = None\n",
    "        self.grid_list = []\n",
    "        self.feval = feval\n",
    "        self.num_boost_round = num_boost_round\n",
    "        self.params = kwargs\n",
    "        if objective:\n",
    "            print(\"Built a XGBoost with defiend objective\")\n",
    "            if feval:\n",
    "                if type(feval).__name__ == 'str':\n",
    "                    print(\"Use eval_metric: \", feval)\n",
    "                    self.params.update({'objective' : objective, 'eval_metric' : feval, 'silent' : True})\n",
    "                else:\n",
    "                    print(\"Use defiend funcation for eval\")\n",
    "                    self.params.update({'objective' : objective, 'silent' : True})\n",
    "            else:\n",
    "                print(\"Use default eval_metric\")\n",
    "                self.params.update({'objective' : objective, 'silent' : True})\n",
    "                \n",
    "        else:\n",
    "            print(\"Built a XGBoost with default objective reg:linear\")\n",
    "            self.params.update({'objective' : 'reg:linear', 'silent' : True})\n",
    "            \n",
    "        print(self.params)\n",
    "\n",
    "    def evalerror(self, preds, dtrain):\n",
    "        labels = dtrain.get_label()\n",
    "        return 'error', self.feval(labels, preds)\n",
    "\n",
    "    def fit(self, X, y, num_boost_round=None):\n",
    "        num_boost_round = num_boost_round or self.num_boost_round\n",
    "        dtrain = xgb.DMatrix(X, label=y)\n",
    "        self.clf = xgb.train(params=self.params, dtrain=dtrain, num_boost_round=num_boost_round)\n",
    "\n",
    "    def fit_eval(self, X, y, X_test, y_test, verbose_eval = False, num_boost_round = None, early_stopping = 5,\n",
    "                 print_out=False):\n",
    "        num_boost_round = num_boost_round or self.num_boost_round\n",
    "        dtrain = xgb.DMatrix(X, label=y)\n",
    "        dtest = xgb.DMatrix(X_test, label=y_test)\n",
    "        watchlist = [(dtrain, 'train'), (dtest, 'eval')]\n",
    "        \n",
    "        if type(self.feval).__name__ == 'str' or self.feval == None:\n",
    "            self.clf = xgb.train(params = self.params, dtrain = dtrain, num_boost_round = num_boost_round,\n",
    "                             evals = watchlist, verbose_eval = verbose_eval,\n",
    "                             early_stopping_rounds = early_stopping)\n",
    "        else:\n",
    "            self.clf = xgb.train(params = self.params, dtrain = dtrain, num_boost_round = num_boost_round,\n",
    "                             evals = watchlist, feval = self.evalerror, verbose_eval = verbose_eval,\n",
    "                             early_stopping_rounds = early_stopping)\n",
    "        \n",
    "        if print_out:\n",
    "            print(\"Number of iteration: \", self.clf.best_iteration, \" Score: \", self.clf.best_score)\n",
    "        return self.clf.best_score\n",
    "    \n",
    "    def fit_cv(self, X, y, cv, verbose_eval = False, num_boost_round = None, early_stopping = 5,\n",
    "                 print_out=False):\n",
    "        \n",
    "        num_boost_round = num_boost_round or self.num_boost_round\n",
    "        scores = []\n",
    "        for i, (train_index, test_index) in enumerate(cv.split(X, y)):\n",
    "            dtrain = xgb.DMatrix(X[train_index], label=y[train_index])\n",
    "            dtest = xgb.DMatrix(X[test_index], label=y[test_index])\n",
    "            watchlist = [(dtrain, 'train'), (dtest, 'eval')]\n",
    "\n",
    "            if type(self.feval).__name__ == 'str' or self.feval == None:\n",
    "                self.clf = xgb.train(params = self.params, dtrain = dtrain, num_boost_round = num_boost_round,\n",
    "                                 evals = watchlist, verbose_eval = verbose_eval,\n",
    "                                 early_stopping_rounds = early_stopping)\n",
    "            else:\n",
    "                self.clf = xgb.train(params = self.params, dtrain = dtrain, num_boost_round = num_boost_round,\n",
    "                                 evals = watchlist, feval = self.evalerror, verbose_eval = verbose_eval,\n",
    "                                 early_stopping_rounds = early_stopping)\n",
    "            \n",
    "            scores.append(self.clf.best_score)\n",
    "\n",
    "            if print_out:\n",
    "                print(\"Kfold: \", i, \"Number of iteration: \", self.clf.best_iteration, \" Score: \", self.clf.best_score)\n",
    "        return np.mean(scores)\n",
    "\n",
    "    def predict(self, X):\n",
    "        dtest = xgb.DMatrix(X)\n",
    "        return self.clf.predict(dtest)\n",
    "\n",
    "    def score(self, X, y):\n",
    "        Y = self.predict(X)\n",
    "        return self.feval(y, Y)\n",
    "\n",
    "    def get_params(self, deep=True):\n",
    "        return self.params\n",
    "\n",
    "    def get_importance(self):\n",
    "        return self.clf.get_fscore()\n",
    "\n",
    "    def plot_importance(self, N = 10):\n",
    "        importance = self.clf.get_fscore()\n",
    "\n",
    "        import operator\n",
    "        importance = sorted(importance.items(), key=operator.itemgetter(1))\n",
    "\n",
    "        importance_df = pd.DataFrame(importance, columns=['feature', 'fscore'])\n",
    "        importance_df['fscore'] = importance_df['fscore'] / importance_df['fscore'].sum()\n",
    "\n",
    "        plt.figure()\n",
    "        importance_df[-N:].plot(kind='barh', x='feature', y='fscore', legend=False, figsize=(10, 5))\n",
    "        plt.title('XGBoost Feature Importance')\n",
    "        plt.xlabel('relative importance')\n",
    "        plt.ylabel('')\n",
    "        plt.show()\n",
    "\n",
    "    def set_params(self, **params):\n",
    "        if 'num_boost_round' in params:\n",
    "            self.num_boost_round = params.pop('num_boost_round')\n",
    "        if 'objective' in params:\n",
    "            del params['objective']\n",
    "        self.params.update(params)\n",
    "        return \n",
    "    \n",
    "    def grid(self, keys, comb, it=0):\n",
    "        if len(keys) == it:\n",
    "            return\n",
    "\n",
    "        for x in self.grid_params[keys[it]]:\n",
    "            comb.append(x)\n",
    "            self.grid(keys, comb, it+1)\n",
    "            if len(comb) == len(keys):\n",
    "                self.grid_list.append(comb[:])\n",
    "            comb.pop()\n",
    "    \n",
    "    def make_grid(self, **kwargs):\n",
    "        self.grid_list = []\n",
    "        self.grid_params = kwargs\n",
    "        print(self.params)\n",
    "        print(self.grid_params)\n",
    "        self.grid(list(self.grid_params.keys()), [])\n",
    "        print(\"Number of iteration for Optimization: \", len(self.grid_list))\n",
    "        \n",
    "    def optimization(self, X, y, X_test, y_test, verbose_eval = False, num_boost_round = None, early_stopping = 2):\n",
    "        num_boost_round = num_boost_round or self.num_boost_round\n",
    "        dtrain = xgb.DMatrix(X, label=y)\n",
    "        dtest = xgb.DMatrix(X_test, label=y_test)\n",
    "        watchlist = [(dtrain, 'train'), (dtest, 'eval')]\n",
    "\n",
    "        col = list(self.grid_params.keys()) + ['iterations', 'score']\n",
    "        self.result = pd.DataFrame(columns=col)\n",
    "\n",
    "        for i in tqdm(range(len(self.grid_list))):\n",
    "            temp = {}\n",
    "            for j, key in enumerate(self.grid_params.keys()):\n",
    "                temp[key] = self.grid_list[i][j]\n",
    "#            print(temp)\n",
    "            temp.update(self.params)\n",
    "#            print(temp)\n",
    "\n",
    "            if type(self.feval).__name__ == 'str' or self.feval == None:\n",
    "                self.clf = xgb.train(params = temp, dtrain = dtrain, num_boost_round = num_boost_round,\n",
    "                             evals = watchlist, verbose_eval = verbose_eval,\n",
    "                             early_stopping_rounds = early_stopping)\n",
    "            else:\n",
    "                self.clf = xgb.train(params = temp, dtrain = dtrain, num_boost_round = num_boost_round,\n",
    "                             evals = watchlist, feval = self.evalerror, verbose_eval = verbose_eval,\n",
    "                             early_stopping_rounds = early_stopping)\n",
    "\n",
    "            self.result = self.result.append(pd.DataFrame([self.grid_list[i] + [self.clf.best_iteration, self.clf.best_score]], columns=col))\n",
    "\n",
    "\n",
    "    def scores(self, N=4):\n",
    "        return self.result.sort_values(\"score\")[:N]\n",
    "    \n",
    "    def bayesian(self, X, y, X_test=None, y_test=None, cv=None, nstopping = 5, ncalls = 10, warrning=False, **kwargs):\n",
    "        if not warrning:\n",
    "            print(\"Ignore UserWarning\")\n",
    "            warnings.filterwarnings(\"ignore\")\n",
    "        if cv:\n",
    "            print(\"CV optimization\")\n",
    "        print(kwargs)\n",
    "        space = []\n",
    "        for key, val in kwargs.items():\n",
    "            if key == \"eta\":\n",
    "                space.append(Real(val[0], val[1], \"log-uniform\", name='eta'))\n",
    "            elif key == \"max_depth\":\n",
    "                space.append(Integer(val[0], val[1], name='max_depth'))\n",
    "            elif key == 'subsample': \n",
    "                space.append(Real(val[0], val[1], \"uniform\", name='subsample'))\n",
    "            elif key == 'colsample_bytree': \n",
    "                space.append(Real(val[0], val[1], \"uniform\", name='colsample_bytree'))\n",
    "            elif key == 'colsample_bylevel': \n",
    "                space.append(Real(val[0], val[1], \"uniform\", name='colsample_bylevel'))\n",
    "            elif key == \"reg_lambda\":\n",
    "                space.append(Real(val[0], val[1], \"uniform\", name='reg_lambda'))\n",
    "            elif key == \"reg_alpha\":\n",
    "                space.append(Real(val[0], val[1], \"uniform\", name='reg_alpha'))\n",
    "            elif key == \"gamma\":\n",
    "                space.append(Real(val[0], val[1], \"uniform\", name='gamma'))\n",
    "            elif key == \"min_child_weight\":\n",
    "                space.append(Integer(val[0], val[1], name='min_child_weight'))\n",
    "            elif key == \"scale_pos_weight\":\n",
    "                space.append(Integer(val[0], val[1], name='scale_pos_weight'))\n",
    "            else:\n",
    "                print(\"Error: Invalid parameter\")\n",
    "        \n",
    "        print(space)\n",
    "                \n",
    "                \n",
    "        @use_named_args(space)\n",
    "        def objective(**params):\n",
    "            self.set_params(**params)\n",
    "            \n",
    "            if cv:\n",
    "                return self.fit_cv(X, y, cv, verbose_eval = False, num_boost_round = self.num_boost_round, \n",
    "                                 early_stopping = nstopping)\n",
    "            else:\n",
    "                return self.fit_eval(X, y, X_test, y_test, verbose_eval = False, num_boost_round = self.num_boost_round, \n",
    "                                 early_stopping = nstopping)\n",
    "        \n",
    "\n",
    "        res_gp = gp_minimize(objective, space, n_calls = ncalls, random_state=0)\n",
    "    \n",
    "        plot_convergence(res_gp)\n",
    "        \n",
    "        col = list(kwargs.keys()) + ['score']\n",
    "        self.result = pd.DataFrame(columns=col)\n",
    "        \n",
    "        for val, score in zip(res_gp.x_iters, res_gp.func_vals):\n",
    "            self.result = self.result.append(pd.DataFrame([val + [score]], columns=col))\n",
    "            "
   ]
  },
  {
   "cell_type": "markdown",
   "metadata": {},
   "source": [
    "# test the module"
   ]
  },
  {
   "cell_type": "code",
   "execution_count": 24,
   "metadata": {},
   "outputs": [
    {
     "data": {
      "image/png": "[encoded data removed]",
      "text/plain": [
       "<matplotlib.figure.Figure at 0x10245a908>"
      ]
     },
     "metadata": {},
     "output_type": "display_data"
    }
   ],
   "source": [
    "# create a dataset for regression problem\n",
    "import numpy as np\n",
    "from matplotlib import pyplot as plt\n",
    "\n",
    "from sklearn import linear_model, datasets\n",
    "\n",
    "\n",
    "n_samples = 1000\n",
    "n_outliers = 50\n",
    "\n",
    "\n",
    "X, y, coef = datasets.make_regression(n_samples=n_samples, n_features=1,\n",
    "                                      n_informative=1, noise=50,\n",
    "                                      coef=True, random_state=1)\n",
    "\n",
    "X1, y1, coef = datasets.make_regression(n_samples=n_samples, n_features=1,\n",
    "                                      n_informative=1, noise=50,\n",
    "                                      coef=True, random_state=0)\n",
    "\n",
    "plt.scatter(X, y, color='yellowgreen', marker='.',\n",
    "            label='Inliers')\n",
    "#plt.show()\n",
    "\n",
    "plt.scatter(X1, y1, color='red', marker='.',\n",
    "            label='Inliers')\n",
    "plt.show()"
   ]
  },
  {
   "cell_type": "markdown",
   "metadata": {},
   "source": [
    "# CV Optimization Bayesian"
   ]
  },
  {
   "cell_type": "code",
   "execution_count": 98,
   "metadata": {
    "collapsed": true
   },
   "outputs": [],
   "source": [
    "from sklearn.model_selection import KFold\n",
    "\n",
    "cv = KFold(\n",
    "        n_splits=3,\n",
    "        shuffle=True,\n",
    "        random_state=42\n",
    "    )"
   ]
  },
  {
   "cell_type": "code",
   "execution_count": 99,
   "metadata": {},
   "outputs": [
    {
     "name": "stdout",
     "output_type": "stream",
     "text": [
      "Built a XGBoost with defiend objective\n",
      "Use default eval_metric\n",
      "{'objective': 'reg:linear', 'silent': True}\n"
     ]
    }
   ],
   "source": [
    "model = XGBoost(objective = \"reg:linear\", num_boost_round = 100)"
   ]
  },
  {
   "cell_type": "code",
   "execution_count": 100,
   "metadata": {},
   "outputs": [
    {
     "name": "stdout",
     "output_type": "stream",
     "text": [
      "Ignore UserWarning\n",
      "CV optimization\n",
      "{'eta': [0.01, 0.05], 'max_depth': [4, 10], 'subsample': [0.5, 1.0], 'colsample_bytree': [0.5, 1.0], 'colsample_bylevel': [0.5, 1.0], 'reg_lambda': [0, 10], 'reg_alpha': [0, 10], 'gamma': [0, 10], 'min_child_weight': [0, 10]}\n",
      "[Real(low=0.01, high=0.05, prior='log-uniform', transform='identity'), Integer(low=4, high=10), Real(low=0.5, high=1.0, prior='uniform', transform='identity'), Real(low=0.5, high=1.0, prior='uniform', transform='identity'), Real(low=0.5, high=1.0, prior='uniform', transform='identity'), Real(low=0, high=10, prior='uniform', transform='identity'), Real(low=0, high=10, prior='uniform', transform='identity'), Real(low=0, high=10, prior='uniform', transform='identity'), Integer(low=0, high=10)]\n"
     ]
    },
    {
     "data": {
      "image/png": "[encoded data removed]",
      "text/plain": [
       "<matplotlib.figure.Figure at 0x10e7618d0>"
      ]
     },
     "metadata": {},
     "output_type": "display_data"
    }
   ],
   "source": [
    "model.bayesian(X, y, cv=cv, nstopping = 10, ncalls=20, eta = [0.01, 0.05], max_depth = [4, 10],\n",
    "               subsample = [0.5, 1.0], colsample_bytree = [0.5, 1.0], colsample_bylevel = [0.5, 1.0],\n",
    "               reg_lambda = [0, 10], reg_alpha = [0, 10], gamma = [0, 10], min_child_weight = [0, 10])"
   ]
  },
  {
   "cell_type": "code",
   "execution_count": 102,
   "metadata": {},
   "outputs": [
    {
     "data": {
      "text/html": [
       "<div>\n",
       "<style>\n",
       "    .dataframe thead tr:only-child th {\n",
       "        text-align: right;\n",
       "    }\n",
       "\n",
       "    .dataframe thead th {\n",
       "        text-align: left;\n",
       "    }\n",
       "\n",
       "    .dataframe tbody tr th {\n",
       "        vertical-align: top;\n",
       "    }\n",
       "</style>\n",
       "<table border=\"1\" class=\"dataframe\">\n",
       "  <thead>\n",
       "    <tr style=\"text-align: right;\">\n",
       "      <th></th>\n",
       "      <th>eta</th>\n",
       "      <th>max_depth</th>\n",
       "      <th>subsample</th>\n",
       "      <th>colsample_bytree</th>\n",
       "      <th>colsample_bylevel</th>\n",
       "      <th>reg_lambda</th>\n",
       "      <th>reg_alpha</th>\n",
       "      <th>gamma</th>\n",
       "      <th>min_child_weight</th>\n",
       "      <th>score</th>\n",
       "    </tr>\n",
       "  </thead>\n",
       "  <tbody>\n",
       "    <tr>\n",
       "      <th>0</th>\n",
       "      <td>0.045844</td>\n",
       "      <td>4</td>\n",
       "      <td>0.500000</td>\n",
       "      <td>0.837856</td>\n",
       "      <td>0.629738</td>\n",
       "      <td>10.0</td>\n",
       "      <td>10.0</td>\n",
       "      <td>10.0</td>\n",
       "      <td>10</td>\n",
       "      <td>50.451578</td>\n",
       "    </tr>\n",
       "    <tr>\n",
       "      <th>0</th>\n",
       "      <td>0.050000</td>\n",
       "      <td>4</td>\n",
       "      <td>0.500000</td>\n",
       "      <td>0.500000</td>\n",
       "      <td>0.500000</td>\n",
       "      <td>10.0</td>\n",
       "      <td>0.0</td>\n",
       "      <td>10.0</td>\n",
       "      <td>10</td>\n",
       "      <td>50.489913</td>\n",
       "    </tr>\n",
       "    <tr>\n",
       "      <th>0</th>\n",
       "      <td>0.050000</td>\n",
       "      <td>4</td>\n",
       "      <td>0.564653</td>\n",
       "      <td>0.521714</td>\n",
       "      <td>0.568532</td>\n",
       "      <td>10.0</td>\n",
       "      <td>10.0</td>\n",
       "      <td>10.0</td>\n",
       "      <td>10</td>\n",
       "      <td>50.498803</td>\n",
       "    </tr>\n",
       "    <tr>\n",
       "      <th>0</th>\n",
       "      <td>0.039762</td>\n",
       "      <td>4</td>\n",
       "      <td>0.500000</td>\n",
       "      <td>1.000000</td>\n",
       "      <td>0.808986</td>\n",
       "      <td>10.0</td>\n",
       "      <td>10.0</td>\n",
       "      <td>10.0</td>\n",
       "      <td>10</td>\n",
       "      <td>50.504580</td>\n",
       "    </tr>\n",
       "  </tbody>\n",
       "</table>\n",
       "</div>"
      ],
      "text/plain": [
       "        eta max_depth  subsample  colsample_bytree  colsample_bylevel  \\\n",
       "0  0.045844         4   0.500000          0.837856           0.629738   \n",
       "0  0.050000         4   0.500000          0.500000           0.500000   \n",
       "0  0.050000         4   0.564653          0.521714           0.568532   \n",
       "0  0.039762         4   0.500000          1.000000           0.808986   \n",
       "\n",
       "   reg_lambda  reg_alpha  gamma min_child_weight      score  \n",
       "0        10.0       10.0   10.0               10  50.451578  \n",
       "0        10.0        0.0   10.0               10  50.489913  \n",
       "0        10.0       10.0   10.0               10  50.498803  \n",
       "0        10.0       10.0   10.0               10  50.504580  "
      ]
     },
     "execution_count": 102,
     "metadata": {},
     "output_type": "execute_result"
    }
   ],
   "source": [
    "model.scores()"
   ]
  },
  {
   "cell_type": "markdown",
   "metadata": {},
   "source": [
    "# Optimization Bayesian"
   ]
  },
  {
   "cell_type": "code",
   "execution_count": 20,
   "metadata": {},
   "outputs": [
    {
     "name": "stdout",
     "output_type": "stream",
     "text": [
      "Built a XGBoost with defiend objective\n",
      "Use default eval_metric\n",
      "{'objective': 'reg:linear', 'silent': True}\n"
     ]
    }
   ],
   "source": [
    "model = XGBoost(objective = \"reg:linear\", num_boost_round = 1000)"
   ]
  },
  {
   "cell_type": "code",
   "execution_count": 21,
   "metadata": {},
   "outputs": [
    {
     "name": "stdout",
     "output_type": "stream",
     "text": [
      "Ignore UserWarning\n",
      "{'eta': [0.01, 0.05], 'max_depth': [4, 10], 'subsample': [0.5, 1.0], 'colsample_bytree': [0.5, 1.0], 'colsample_bylevel': [0.5, 1.0], 'reg_lambda': [0, 10], 'reg_alpha': [0, 10], 'gamma': [0, 10], 'min_child_weight': [0, 10]}\n",
      "[Real(low=0.01, high=0.05, prior='log-uniform', transform='identity'), Integer(low=4, high=10), Real(low=0.5, high=1.0, prior='uniform', transform='identity'), Real(low=0.5, high=1.0, prior='uniform', transform='identity'), Real(low=0.5, high=1.0, prior='uniform', transform='identity'), Real(low=0, high=10, prior='uniform', transform='identity'), Real(low=0, high=10, prior='uniform', transform='identity'), Real(low=0, high=10, prior='uniform', transform='identity'), Integer(low=0, high=10)]\n"
     ]
    },
    {
     "data": {
      "image/png": "[encoded data removed]",
      "text/plain": [
       "<matplotlib.figure.Figure at 0x10e80a198>"
      ]
     },
     "metadata": {},
     "output_type": "display_data"
    }
   ],
   "source": [
    "model.bayesian(X, y, X1, y1, nstopping = 10, ncalls=20, eta = [0.01, 0.05], max_depth = [4, 10],\n",
    "               subsample = [0.5, 1.0], colsample_bytree = [0.5, 1.0], colsample_bylevel = [0.5, 1.0],\n",
    "               reg_lambda = [0, 10], reg_alpha = [0, 10], gamma = [0, 10], min_child_weight = [0, 10])\n",
    "\n",
    "#subsample = [0.5, 1.0], colsample_bytree = [0.5, 1.0], colsample_bylevel = [0.5, 1.0]) #,\n",
    "#               reg_lambda = [0, 10], reg_alpha = [0, 10], gamma = [0, 10], min_child_weight = [0, 10])"
   ]
  },
  {
   "cell_type": "code",
   "execution_count": 22,
   "metadata": {},
   "outputs": [
    {
     "data": {
      "text/html": [
       "<div>\n",
       "<style>\n",
       "    .dataframe thead tr:only-child th {\n",
       "        text-align: right;\n",
       "    }\n",
       "\n",
       "    .dataframe thead th {\n",
       "        text-align: left;\n",
       "    }\n",
       "\n",
       "    .dataframe tbody tr th {\n",
       "        vertical-align: top;\n",
       "    }\n",
       "</style>\n",
       "<table border=\"1\" class=\"dataframe\">\n",
       "  <thead>\n",
       "    <tr style=\"text-align: right;\">\n",
       "      <th></th>\n",
       "      <th>eta</th>\n",
       "      <th>max_depth</th>\n",
       "      <th>subsample</th>\n",
       "      <th>colsample_bytree</th>\n",
       "      <th>colsample_bylevel</th>\n",
       "      <th>reg_lambda</th>\n",
       "      <th>reg_alpha</th>\n",
       "      <th>gamma</th>\n",
       "      <th>min_child_weight</th>\n",
       "      <th>score</th>\n",
       "    </tr>\n",
       "  </thead>\n",
       "  <tbody>\n",
       "    <tr>\n",
       "      <th>0</th>\n",
       "      <td>0.05</td>\n",
       "      <td>4</td>\n",
       "      <td>0.5</td>\n",
       "      <td>0.5</td>\n",
       "      <td>0.500000</td>\n",
       "      <td>10.0</td>\n",
       "      <td>10.0</td>\n",
       "      <td>10.0</td>\n",
       "      <td>10</td>\n",
       "      <td>67.534363</td>\n",
       "    </tr>\n",
       "    <tr>\n",
       "      <th>0</th>\n",
       "      <td>0.05</td>\n",
       "      <td>4</td>\n",
       "      <td>0.5</td>\n",
       "      <td>0.5</td>\n",
       "      <td>0.888027</td>\n",
       "      <td>10.0</td>\n",
       "      <td>10.0</td>\n",
       "      <td>10.0</td>\n",
       "      <td>10</td>\n",
       "      <td>67.534363</td>\n",
       "    </tr>\n",
       "    <tr>\n",
       "      <th>0</th>\n",
       "      <td>0.05</td>\n",
       "      <td>4</td>\n",
       "      <td>0.5</td>\n",
       "      <td>0.5</td>\n",
       "      <td>1.000000</td>\n",
       "      <td>10.0</td>\n",
       "      <td>10.0</td>\n",
       "      <td>10.0</td>\n",
       "      <td>10</td>\n",
       "      <td>67.534363</td>\n",
       "    </tr>\n",
       "    <tr>\n",
       "      <th>0</th>\n",
       "      <td>0.05</td>\n",
       "      <td>4</td>\n",
       "      <td>0.5</td>\n",
       "      <td>1.0</td>\n",
       "      <td>1.000000</td>\n",
       "      <td>10.0</td>\n",
       "      <td>10.0</td>\n",
       "      <td>0.0</td>\n",
       "      <td>10</td>\n",
       "      <td>67.562729</td>\n",
       "    </tr>\n",
       "  </tbody>\n",
       "</table>\n",
       "</div>"
      ],
      "text/plain": [
       "    eta max_depth  subsample  colsample_bytree  colsample_bylevel  reg_lambda  \\\n",
       "0  0.05         4        0.5               0.5           0.500000        10.0   \n",
       "0  0.05         4        0.5               0.5           0.888027        10.0   \n",
       "0  0.05         4        0.5               0.5           1.000000        10.0   \n",
       "0  0.05         4        0.5               1.0           1.000000        10.0   \n",
       "\n",
       "   reg_alpha  gamma min_child_weight      score  \n",
       "0       10.0   10.0               10  67.534363  \n",
       "0       10.0   10.0               10  67.534363  \n",
       "0       10.0   10.0               10  67.534363  \n",
       "0       10.0    0.0               10  67.562729  "
      ]
     },
     "execution_count": 22,
     "metadata": {},
     "output_type": "execute_result"
    }
   ],
   "source": [
    "model.scores()"
   ]
  },
  {
   "cell_type": "code",
   "execution_count": 11,
   "metadata": {},
   "outputs": [
    {
     "name": "stdout",
     "output_type": "stream",
     "text": [
      "Built a XGBoost with defiend objective\n",
      "Use default eval_metric\n",
      "{'eta': 0.03469, 'max_depth': 4, 'subsample': 0.5, 'colsample_bytree': 1.0, 'colsample': 0.5, 'reg_alpha': 0.2, 'objective': 'reg:linear', 'silent': True}\n"
     ]
    }
   ],
   "source": [
    "model = XGBoost(objective = \"reg:linear\", eta = 0.03469, max_depth = 4, subsample = 0.5,\n",
    "                colsample_bytree = 1., colsample = 0.5, reg_alpha = 0.2)"
   ]
  },
  {
   "cell_type": "code",
   "execution_count": 12,
   "metadata": {},
   "outputs": [
    {
     "name": "stdout",
     "output_type": "stream",
     "text": [
      "Number of iteration:  128  Score:  67.608879\n"
     ]
    },
    {
     "data": {
      "text/plain": [
       "67.608879"
      ]
     },
     "execution_count": 12,
     "metadata": {},
     "output_type": "execute_result"
    }
   ],
   "source": [
    "model.fit_eval(X, y, X1, y1, verbose_eval = False, num_boost_round = 1000, early_stopping = 20, print_out=True)"
   ]
  },
  {
   "cell_type": "markdown",
   "metadata": {},
   "source": [
    "# Grid Search"
   ]
  },
  {
   "cell_type": "code",
   "execution_count": 17,
   "metadata": {},
   "outputs": [],
   "source": [
    "#model = XGBoost(objective = \"reg:linear\")"
   ]
  },
  {
   "cell_type": "code",
   "execution_count": 18,
   "metadata": {},
   "outputs": [
    {
     "name": "stdout",
     "output_type": "stream",
     "text": [
      "{'eta': 0.03469, 'max_depth': 4, 'subsample': 0.5, 'colsample_bytree': 1.0, 'colsample': 0.5, 'objective': 'reg:linear', 'silent': True}\n",
      "{'eta': [0.01, 0.02, 0.03], 'max_depth': [4, 5, 6]}\n",
      "Number of iteration for Optimization:  9\n"
     ]
    }
   ],
   "source": [
    "model.make_grid(eta = [0.01, 0.02, 0.03], max_depth = [4, 5, 6])"
   ]
  },
  {
   "cell_type": "code",
   "execution_count": 19,
   "metadata": {},
   "outputs": [
    {
     "name": "stderr",
     "output_type": "stream",
     "text": [
      "100%|██████████| 9/9 [00:01<00:00,  5.18it/s]\n"
     ]
    }
   ],
   "source": [
    "model.optimization(X, y, X1, y1, verbose_eval = False, num_boost_round = 200, early_stopping = 20)"
   ]
  },
  {
   "cell_type": "code",
   "execution_count": 20,
   "metadata": {},
   "outputs": [
    {
     "data": {
      "text/html": [
       "<div>\n",
       "<style>\n",
       "    .dataframe thead tr:only-child th {\n",
       "        text-align: right;\n",
       "    }\n",
       "\n",
       "    .dataframe thead th {\n",
       "        text-align: left;\n",
       "    }\n",
       "\n",
       "    .dataframe tbody tr th {\n",
       "        vertical-align: top;\n",
       "    }\n",
       "</style>\n",
       "<table border=\"1\" class=\"dataframe\">\n",
       "  <thead>\n",
       "    <tr style=\"text-align: right;\">\n",
       "      <th></th>\n",
       "      <th>eta</th>\n",
       "      <th>max_depth</th>\n",
       "      <th>iterations</th>\n",
       "      <th>score</th>\n",
       "    </tr>\n",
       "  </thead>\n",
       "  <tbody>\n",
       "    <tr>\n",
       "      <th>0</th>\n",
       "      <td>0.01</td>\n",
       "      <td>4</td>\n",
       "      <td>128</td>\n",
       "      <td>67.624435</td>\n",
       "    </tr>\n",
       "    <tr>\n",
       "      <th>0</th>\n",
       "      <td>0.01</td>\n",
       "      <td>5</td>\n",
       "      <td>128</td>\n",
       "      <td>67.624435</td>\n",
       "    </tr>\n",
       "    <tr>\n",
       "      <th>0</th>\n",
       "      <td>0.01</td>\n",
       "      <td>6</td>\n",
       "      <td>128</td>\n",
       "      <td>67.624435</td>\n",
       "    </tr>\n",
       "    <tr>\n",
       "      <th>0</th>\n",
       "      <td>0.02</td>\n",
       "      <td>4</td>\n",
       "      <td>128</td>\n",
       "      <td>67.624435</td>\n",
       "    </tr>\n",
       "  </tbody>\n",
       "</table>\n",
       "</div>"
      ],
      "text/plain": [
       "    eta max_depth iterations      score\n",
       "0  0.01         4        128  67.624435\n",
       "0  0.01         5        128  67.624435\n",
       "0  0.01         6        128  67.624435\n",
       "0  0.02         4        128  67.624435"
      ]
     },
     "execution_count": 20,
     "metadata": {},
     "output_type": "execute_result"
    }
   ],
   "source": [
    "model.scores()"
   ]
  },
  {
   "cell_type": "markdown",
   "metadata": {},
   "source": [
    "# define eval function"
   ]
  },
  {
   "cell_type": "code",
   "execution_count": 21,
   "metadata": {},
   "outputs": [
    {
     "name": "stdout",
     "output_type": "stream",
     "text": [
      "Built a XGBoost with defiend objective\n",
      "Use defiend funcation for eval\n",
      "{'objective': 'reg:linear', 'silent': True}\n"
     ]
    }
   ],
   "source": [
    "from sklearn.metrics import r2_score\n",
    "model = XGBoost(objective = \"reg:linear\", feval = lambda x, y: -1 * r2_score(x,y)) # xgboost reduce the error"
   ]
  },
  {
   "cell_type": "code",
   "execution_count": 22,
   "metadata": {},
   "outputs": [
    {
     "name": "stdout",
     "output_type": "stream",
     "text": [
      "{'objective': 'reg:linear', 'silent': True}\n",
      "{'eta': [0.01, 0.02, 0.03], 'max_depth': [4, 5, 6]}\n",
      "Number of iteration for Optimization:  9\n"
     ]
    }
   ],
   "source": [
    "model.make_grid(eta = [0.01, 0.02, 0.03], max_depth = [4, 5, 6])"
   ]
  },
  {
   "cell_type": "code",
   "execution_count": 23,
   "metadata": {},
   "outputs": [
    {
     "name": "stderr",
     "output_type": "stream",
     "text": [
      "\r",
      "  0%|          | 0/9 [00:00<?, ?it/s]"
     ]
    },
    {
     "name": "stdout",
     "output_type": "stream",
     "text": [
      "[0]\ttrain-rmse:62.0188\teval-rmse:94.5886\ttrain-error:-0.006162\teval-error:-0.005341\n",
      "Multiple eval metrics have been passed: 'eval-error' will be used for early stopping.\n",
      "\n",
      "Will train until eval-error hasn't improved in 20 rounds.\n",
      "[10]\ttrain-rmse:59.7985\teval-rmse:91.7521\ttrain-error:-0.076046\teval-error:-0.064103\n",
      "[20]\ttrain-rmse:57.9054\teval-rmse:89.2225\ttrain-error:-0.133623\teval-error:-0.114995\n",
      "[30]\ttrain-rmse:56.2933\teval-rmse:86.9605\ttrain-error:-0.18119\teval-error:-0.1593\n",
      "[40]\ttrain-rmse:54.9174\teval-rmse:84.9339\ttrain-error:-0.220729\teval-error:-0.198028\n",
      "[50]\ttrain-rmse:53.7424\teval-rmse:83.1376\ttrain-error:-0.253716\teval-error:-0.231592\n",
      "[60]\ttrain-rmse:52.7414\teval-rmse:81.5235\ttrain-error:-0.281258\teval-error:-0.26114\n",
      "[70]\ttrain-rmse:51.8941\teval-rmse:80.0854\ttrain-error:-0.304168\teval-error:-0.286977\n",
      "[80]\ttrain-rmse:51.1678\teval-rmse:78.8225\ttrain-error:-0.323507\teval-error:-0.309287\n",
      "[90]\ttrain-rmse:50.5423\teval-rmse:77.6965\ttrain-error:-0.339946\teval-error:-0.32888\n",
      "[100]\ttrain-rmse:50.0185\teval-rmse:76.69\ttrain-error:-0.353557\teval-error:-0.346157\n",
      "[110]\ttrain-rmse:49.5721\teval-rmse:75.7928\ttrain-error:-0.365042\teval-error:-0.361365\n",
      "[120]\ttrain-rmse:49.1866\teval-rmse:74.9844\ttrain-error:-0.37488\teval-error:-0.374917\n",
      "[130]\ttrain-rmse:48.8346\teval-rmse:74.2701\ttrain-error:-0.383797\teval-error:-0.386769\n",
      "[140]\ttrain-rmse:48.5167\teval-rmse:73.6301\ttrain-error:-0.391793\teval-error:-0.397291\n",
      "[150]\ttrain-rmse:48.2411\teval-rmse:73.061\ttrain-error:-0.398683\teval-error:-0.406572\n",
      "[160]\ttrain-rmse:48.0063\teval-rmse:72.5563\ttrain-error:-0.404523\teval-error:-0.414743\n",
      "[170]\ttrain-rmse:47.7869\teval-rmse:72.1034\ttrain-error:-0.409951\teval-error:-0.422026\n",
      "[180]\ttrain-rmse:47.5966\teval-rmse:71.703\ttrain-error:-0.414643\teval-error:-0.428428\n",
      "[190]\ttrain-rmse:47.4191\teval-rmse:71.3248\ttrain-error:-0.419\teval-error:-0.434441\n",
      "[199]\ttrain-rmse:47.27\teval-rmse:71.0228\ttrain-error:-0.422648\teval-error:-0.43922\n"
     ]
    },
    {
     "name": "stderr",
     "output_type": "stream",
     "text": [
      "\r",
      " 11%|█         | 1/9 [00:00<00:03,  2.10it/s]"
     ]
    },
    {
     "name": "stdout",
     "output_type": "stream",
     "text": [
      "[0]\ttrain-rmse:62.0077\teval-rmse:94.5869\ttrain-error:-0.006518\teval-error:-0.005376\n",
      "Multiple eval metrics have been passed: 'eval-error' will be used for early stopping.\n",
      "\n",
      "Will train until eval-error hasn't improved in 20 rounds.\n",
      "[10]\ttrain-rmse:59.6984\teval-rmse:91.7686\ttrain-error:-0.079138\teval-error:-0.063765\n",
      "[20]\ttrain-rmse:57.6991\teval-rmse:89.29\ttrain-error:-0.139784\teval-error:-0.113655\n",
      "[30]\ttrain-rmse:55.9775\teval-rmse:87.0928\ttrain-error:-0.190351\teval-error:-0.15674\n",
      "[40]\ttrain-rmse:54.4951\teval-rmse:85.1122\ttrain-error:-0.232666\teval-error:-0.194657\n",
      "[50]\ttrain-rmse:53.2028\teval-rmse:83.3186\ttrain-error:-0.268628\teval-error:-0.228243\n",
      "[60]\ttrain-rmse:52.0919\teval-rmse:81.7286\ttrain-error:-0.298853\teval-error:-0.257418\n",
      "[70]\ttrain-rmse:51.1328\teval-rmse:80.2955\ttrain-error:-0.324432\teval-error:-0.283231\n",
      "[80]\ttrain-rmse:50.3013\teval-rmse:79.0407\ttrain-error:-0.346225\teval-error:-0.305459\n",
      "[90]\ttrain-rmse:49.5882\teval-rmse:77.9313\ttrain-error:-0.364631\teval-error:-0.324819\n",
      "[100]\ttrain-rmse:48.9712\teval-rmse:76.9599\ttrain-error:-0.380344\teval-error:-0.341546\n",
      "[110]\ttrain-rmse:48.4319\teval-rmse:76.0949\ttrain-error:-0.393917\teval-error:-0.356264\n",
      "[120]\ttrain-rmse:47.9555\teval-rmse:75.3118\ttrain-error:-0.405782\teval-error:-0.369445\n",
      "[130]\ttrain-rmse:47.5316\teval-rmse:74.5813\ttrain-error:-0.416241\teval-error:-0.381619\n",
      "[140]\ttrain-rmse:47.1712\teval-rmse:73.9139\ttrain-error:-0.425058\teval-error:-0.392636\n",
      "[150]\ttrain-rmse:46.8647\teval-rmse:73.312\ttrain-error:-0.432506\teval-error:-0.402487\n",
      "[160]\ttrain-rmse:46.5716\teval-rmse:72.7663\ttrain-error:-0.439582\teval-error:-0.41135\n",
      "[170]\ttrain-rmse:46.3081\teval-rmse:72.2986\ttrain-error:-0.445906\teval-error:-0.418892\n",
      "[180]\ttrain-rmse:46.0713\teval-rmse:71.9016\ttrain-error:-0.451559\teval-error:-0.425258\n",
      "[190]\ttrain-rmse:45.8591\teval-rmse:71.5348\ttrain-error:-0.4566\teval-error:-0.431107\n",
      "[199]\ttrain-rmse:45.6821\teval-rmse:71.2428\ttrain-error:-0.460786\teval-error:-0.435741\n"
     ]
    },
    {
     "name": "stderr",
     "output_type": "stream",
     "text": [
      "\r",
      " 22%|██▏       | 2/9 [00:01<00:03,  1.97it/s]"
     ]
    },
    {
     "name": "stdout",
     "output_type": "stream",
     "text": [
      "[0]\ttrain-rmse:61.9927\teval-rmse:94.5871\ttrain-error:-0.006997\teval-error:-0.005373\n",
      "Multiple eval metrics have been passed: 'eval-error' will be used for early stopping.\n",
      "\n",
      "Will train until eval-error hasn't improved in 20 rounds.\n",
      "[10]\ttrain-rmse:59.5484\teval-rmse:91.7707\ttrain-error:-0.08376\teval-error:-0.063723\n",
      "[20]\ttrain-rmse:57.413\teval-rmse:89.2995\ttrain-error:-0.148294\teval-error:-0.113467\n",
      "[30]\ttrain-rmse:55.5533\teval-rmse:87.1116\ttrain-error:-0.202577\teval-error:-0.156376\n",
      "[40]\ttrain-rmse:53.9328\teval-rmse:85.1524\ttrain-error:-0.24842\teval-error:-0.193896\n",
      "[50]\ttrain-rmse:52.5559\teval-rmse:83.3914\ttrain-error:-0.286305\teval-error:-0.226894\n",
      "[60]\ttrain-rmse:51.3489\teval-rmse:81.806\ttrain-error:-0.31871\teval-error:-0.25601\n",
      "[70]\ttrain-rmse:50.2902\teval-rmse:80.3638\ttrain-error:-0.346515\teval-error:-0.282011\n",
      "[80]\ttrain-rmse:49.3682\teval-rmse:79.1082\ttrain-error:-0.370256\teval-error:-0.304272\n",
      "[90]\ttrain-rmse:48.5513\teval-rmse:78.0062\ttrain-error:-0.390923\teval-error:-0.32352\n",
      "[100]\ttrain-rmse:47.8296\teval-rmse:77.0277\ttrain-error:-0.408898\teval-error:-0.340385\n",
      "[110]\ttrain-rmse:47.1921\teval-rmse:76.1792\ttrain-error:-0.424548\teval-error:-0.354836\n",
      "[120]\ttrain-rmse:46.6134\teval-rmse:75.4241\ttrain-error:-0.438576\teval-error:-0.367563\n",
      "[130]\ttrain-rmse:46.0755\teval-rmse:74.7472\ttrain-error:-0.451458\teval-error:-0.378864\n",
      "[140]\ttrain-rmse:45.601\teval-rmse:74.1262\ttrain-error:-0.462698\teval-error:-0.389143\n",
      "[150]\ttrain-rmse:45.1786\teval-rmse:73.575\ttrain-error:-0.472607\teval-error:-0.398193\n",
      "[160]\ttrain-rmse:44.8138\teval-rmse:73.0791\ttrain-error:-0.481089\teval-error:-0.406277\n",
      "[170]\ttrain-rmse:44.5071\teval-rmse:72.6271\ttrain-error:-0.488168\teval-error:-0.413599\n",
      "[180]\ttrain-rmse:44.2401\teval-rmse:72.2049\ttrain-error:-0.494291\teval-error:-0.420398\n",
      "[190]\ttrain-rmse:43.9814\teval-rmse:71.8363\ttrain-error:-0.500186\teval-error:-0.4263\n",
      "[199]\ttrain-rmse:43.7895\teval-rmse:71.5362\ttrain-error:-0.504539\teval-error:-0.431083\n"
     ]
    },
    {
     "name": "stderr",
     "output_type": "stream",
     "text": [
      "\r",
      " 33%|███▎      | 3/9 [00:01<00:03,  1.87it/s]"
     ]
    },
    {
     "name": "stdout",
     "output_type": "stream",
     "text": [
      "[0]\ttrain-rmse:61.7815\teval-rmse:94.2909\ttrain-error:-0.013752\teval-error:-0.011592\n",
      "Multiple eval metrics have been passed: 'eval-error' will be used for early stopping.\n",
      "\n",
      "Will train until eval-error hasn't improved in 20 rounds.\n",
      "[10]\ttrain-rmse:57.7147\teval-rmse:88.975\ttrain-error:-0.139319\teval-error:-0.119898\n",
      "[20]\ttrain-rmse:54.7675\teval-rmse:84.7198\ttrain-error:-0.224975\teval-error:-0.202067\n",
      "[30]\ttrain-rmse:52.6271\teval-rmse:81.3361\ttrain-error:-0.28437\teval-error:-0.264533\n",
      "[40]\ttrain-rmse:51.0738\teval-rmse:78.6721\ttrain-error:-0.325991\teval-error:-0.311922\n",
      "[50]\ttrain-rmse:49.9486\teval-rmse:76.5612\ttrain-error:-0.355363\teval-error:-0.348351\n",
      "[60]\ttrain-rmse:49.127\teval-rmse:74.8774\ttrain-error:-0.376395\teval-error:-0.376698\n",
      "[70]\ttrain-rmse:48.4768\teval-rmse:73.5247\ttrain-error:-0.392793\teval-error:-0.399015\n",
      "[80]\ttrain-rmse:47.9495\teval-rmse:72.4509\ttrain-error:-0.40593\teval-error:-0.416442\n",
      "[90]\ttrain-rmse:47.5312\teval-rmse:71.5978\ttrain-error:-0.41625\teval-error:-0.430103\n",
      "[100]\ttrain-rmse:47.2097\teval-rmse:70.9093\ttrain-error:-0.42412\teval-error:-0.441011\n",
      "[110]\ttrain-rmse:46.8953\teval-rmse:70.3534\ttrain-error:-0.431766\teval-error:-0.449741\n",
      "[120]\ttrain-rmse:46.6314\teval-rmse:69.9094\ttrain-error:-0.438141\teval-error:-0.456664\n",
      "[130]\ttrain-rmse:46.4047\teval-rmse:69.5783\ttrain-error:-0.443592\teval-error:-0.461799\n",
      "[140]\ttrain-rmse:46.1731\teval-rmse:69.3065\ttrain-error:-0.449133\teval-error:-0.465996\n",
      "[150]\ttrain-rmse:45.9629\teval-rmse:69.1135\ttrain-error:-0.454135\teval-error:-0.468967\n",
      "[160]\ttrain-rmse:45.7901\teval-rmse:68.9387\ttrain-error:-0.458233\teval-error:-0.471648\n",
      "[170]\ttrain-rmse:45.6378\teval-rmse:68.7787\ttrain-error:-0.46183\teval-error:-0.474099\n",
      "[180]\ttrain-rmse:45.4831\teval-rmse:68.647\ttrain-error:-0.465472\teval-error:-0.476111\n",
      "[190]\ttrain-rmse:45.3538\teval-rmse:68.5607\ttrain-error:-0.468508\teval-error:-0.477427\n",
      "[199]\ttrain-rmse:45.2496\teval-rmse:68.4808\ttrain-error:-0.470947\teval-error:-0.478644\n"
     ]
    },
    {
     "name": "stderr",
     "output_type": "stream",
     "text": [
      "\r",
      " 44%|████▍     | 4/9 [00:02<00:02,  1.93it/s]"
     ]
    },
    {
     "name": "stdout",
     "output_type": "stream",
     "text": [
      "[0]\ttrain-rmse:61.7593\teval-rmse:94.2876\ttrain-error:-0.014461\teval-error:-0.011661\n",
      "Multiple eval metrics have been passed: 'eval-error' will be used for early stopping.\n",
      "\n",
      "Will train until eval-error hasn't improved in 20 rounds.\n",
      "[10]\ttrain-rmse:57.4949\teval-rmse:89.0303\ttrain-error:-0.145863\teval-error:-0.118804\n",
      "[20]\ttrain-rmse:54.3304\teval-rmse:84.8828\ttrain-error:-0.237297\teval-error:-0.198993\n",
      "[30]\ttrain-rmse:51.9584\teval-rmse:81.5344\ttrain-error:-0.302441\teval-error:-0.260941\n",
      "[40]\ttrain-rmse:50.2021\teval-rmse:78.8774\ttrain-error:-0.348801\teval-error:-0.308325\n",
      "[50]\ttrain-rmse:48.8942\teval-rmse:76.8282\ttrain-error:-0.38229\teval-error:-0.343797\n",
      "[60]\ttrain-rmse:47.8912\teval-rmse:75.1874\ttrain-error:-0.407374\teval-error:-0.371526\n",
      "[70]\ttrain-rmse:47.1282\teval-rmse:73.7942\ttrain-error:-0.426107\teval-error:-0.394601\n",
      "[80]\ttrain-rmse:46.5106\teval-rmse:72.681\ttrain-error:-0.44105\teval-error:-0.41273\n",
      "[90]\ttrain-rmse:46.0118\teval-rmse:71.8288\ttrain-error:-0.452973\teval-error:-0.42642\n",
      "[100]\ttrain-rmse:45.615\teval-rmse:71.1631\ttrain-error:-0.462369\teval-error:-0.437003\n",
      "[110]\ttrain-rmse:45.2798\teval-rmse:70.6172\ttrain-error:-0.470242\teval-error:-0.445607\n",
      "[120]\ttrain-rmse:44.9573\teval-rmse:70.1433\ttrain-error:-0.477761\teval-error:-0.453023\n",
      "[130]\ttrain-rmse:44.6658\teval-rmse:69.753\ttrain-error:-0.48451\teval-error:-0.459094\n",
      "[140]\ttrain-rmse:44.4038\teval-rmse:69.4399\ttrain-error:-0.490542\teval-error:-0.463939\n",
      "[150]\ttrain-rmse:44.1926\teval-rmse:69.2056\ttrain-error:-0.495376\teval-error:-0.46755\n",
      "[160]\ttrain-rmse:43.9688\teval-rmse:69.0347\ttrain-error:-0.500473\teval-error:-0.470176\n",
      "[170]\ttrain-rmse:43.7403\teval-rmse:68.8741\ttrain-error:-0.505653\teval-error:-0.472638\n",
      "[180]\ttrain-rmse:43.5497\teval-rmse:68.7498\ttrain-error:-0.50995\teval-error:-0.474541\n",
      "[190]\ttrain-rmse:43.3587\teval-rmse:68.6975\ttrain-error:-0.51424\teval-error:-0.47534\n",
      "[199]\ttrain-rmse:43.1745\teval-rmse:68.6394\ttrain-error:-0.51836\teval-error:-0.476226\n"
     ]
    },
    {
     "name": "stderr",
     "output_type": "stream",
     "text": [
      "\r",
      " 56%|█████▌    | 5/9 [00:02<00:02,  1.94it/s]"
     ]
    },
    {
     "name": "stdout",
     "output_type": "stream",
     "text": [
      "[0]\ttrain-rmse:61.7294\teval-rmse:94.2879\ttrain-error:-0.015415\teval-error:-0.011656\n",
      "Multiple eval metrics have been passed: 'eval-error' will be used for early stopping.\n",
      "\n",
      "Will train until eval-error hasn't improved in 20 rounds.\n",
      "[10]\ttrain-rmse:57.1949\teval-rmse:89.0493\ttrain-error:-0.154753\teval-error:-0.118429\n",
      "[20]\ttrain-rmse:53.7662\teval-rmse:84.929\ttrain-error:-0.253056\teval-error:-0.198122\n",
      "[30]\ttrain-rmse:51.1831\teval-rmse:81.608\ttrain-error:-0.323102\teval-error:-0.259607\n",
      "[40]\ttrain-rmse:49.2338\teval-rmse:78.9492\ttrain-error:-0.37368\teval-error:-0.307065\n",
      "[50]\ttrain-rmse:47.7156\teval-rmse:76.8936\ttrain-error:-0.411711\teval-error:-0.34268\n",
      "[60]\ttrain-rmse:46.5168\teval-rmse:75.2961\ttrain-error:-0.440901\teval-error:-0.369708\n",
      "[70]\ttrain-rmse:45.5227\teval-rmse:74.0508\ttrain-error:-0.464542\teval-error:-0.390385\n",
      "[80]\ttrain-rmse:44.7629\teval-rmse:73.0255\ttrain-error:-0.482267\teval-error:-0.407148\n",
      "[90]\ttrain-rmse:44.1278\teval-rmse:72.1759\ttrain-error:-0.496854\teval-error:-0.420863\n",
      "[100]\ttrain-rmse:43.6199\teval-rmse:71.4794\ttrain-error:-0.50837\teval-error:-0.431986\n",
      "[110]\ttrain-rmse:43.2122\teval-rmse:70.9363\ttrain-error:-0.517517\teval-error:-0.440585\n",
      "[120]\ttrain-rmse:42.8419\teval-rmse:70.4584\ttrain-error:-0.525751\teval-error:-0.448097\n",
      "[130]\ttrain-rmse:42.5026\teval-rmse:70.0601\ttrain-error:-0.533232\teval-error:-0.454319\n",
      "[140]\ttrain-rmse:42.1653\teval-rmse:69.7815\ttrain-error:-0.540611\teval-error:-0.458651\n",
      "[150]\ttrain-rmse:41.8753\teval-rmse:69.5967\ttrain-error:-0.54691\teval-error:-0.461514\n",
      "[160]\ttrain-rmse:41.5311\teval-rmse:69.4451\ttrain-error:-0.554328\teval-error:-0.463859\n",
      "[170]\ttrain-rmse:41.2519\teval-rmse:69.3302\ttrain-error:-0.560298\teval-error:-0.465631\n",
      "[180]\ttrain-rmse:40.9987\teval-rmse:69.2285\ttrain-error:-0.565679\teval-error:-0.467197\n",
      "[190]\ttrain-rmse:40.7843\teval-rmse:69.1426\ttrain-error:-0.570211\teval-error:-0.468518\n",
      "[199]\ttrain-rmse:40.6134\teval-rmse:69.0782\ttrain-error:-0.573804\teval-error:-0.469509\n"
     ]
    },
    {
     "name": "stderr",
     "output_type": "stream",
     "text": [
      "\r",
      " 67%|██████▋   | 6/9 [00:03<00:01,  1.90it/s]"
     ]
    },
    {
     "name": "stdout",
     "output_type": "stream",
     "text": [
      "[0]\ttrain-rmse:61.5457\teval-rmse:93.9937\ttrain-error:-0.021267\teval-error:-0.017812\n",
      "Multiple eval metrics have been passed: 'eval-error' will be used for early stopping.\n",
      "\n",
      "Will train until eval-error hasn't improved in 20 rounds.\n",
      "[10]\ttrain-rmse:55.9562\teval-rmse:86.466\ttrain-error:-0.190967\teval-error:-0.168835\n",
      "[20]\ttrain-rmse:52.5122\teval-rmse:81.1276\ttrain-error:-0.287492\teval-error:-0.268298\n",
      "[30]\ttrain-rmse:50.3818\teval-rmse:77.3929\ttrain-error:-0.344132\teval-error:-0.334115\n",
      "[40]\ttrain-rmse:49.0786\teval-rmse:74.7552\ttrain-error:-0.377622\teval-error:-0.378731\n",
      "[50]\ttrain-rmse:48.1394\teval-rmse:72.8611\ttrain-error:-0.401216\teval-error:-0.409815\n",
      "[60]\ttrain-rmse:47.5079\teval-rmse:71.5486\ttrain-error:-0.416823\teval-error:-0.430887\n",
      "[70]\ttrain-rmse:47.0022\teval-rmse:70.5826\ttrain-error:-0.429171\teval-error:-0.44615\n",
      "[80]\ttrain-rmse:46.5826\teval-rmse:69.8837\ttrain-error:-0.439317\teval-error:-0.457064\n",
      "[90]\ttrain-rmse:46.2512\teval-rmse:69.4231\ttrain-error:-0.447266\teval-error:-0.464197\n",
      "[100]\ttrain-rmse:45.9546\teval-rmse:69.0961\ttrain-error:-0.454333\teval-error:-0.469233\n",
      "[110]\ttrain-rmse:45.6795\teval-rmse:68.8118\ttrain-error:-0.460847\teval-error:-0.473592\n",
      "[120]\ttrain-rmse:45.4596\teval-rmse:68.629\ttrain-error:-0.466025\teval-error:-0.476385\n",
      "[130]\ttrain-rmse:45.2767\teval-rmse:68.5163\ttrain-error:-0.470314\teval-error:-0.478104\n",
      "[140]\ttrain-rmse:45.1106\teval-rmse:68.4422\ttrain-error:-0.474192\teval-error:-0.479231\n",
      "[150]\ttrain-rmse:44.9099\teval-rmse:68.4187\ttrain-error:-0.478862\teval-error:-0.479589\n",
      "[160]\ttrain-rmse:44.7283\teval-rmse:68.3974\ttrain-error:-0.483066\teval-error:-0.479913\n",
      "[170]\ttrain-rmse:44.5542\teval-rmse:68.3824\ttrain-error:-0.487083\teval-error:-0.480142\n",
      "[180]\ttrain-rmse:44.4295\teval-rmse:68.383\ttrain-error:-0.48995\teval-error:-0.480131\n",
      "[190]\ttrain-rmse:44.2747\teval-rmse:68.3948\ttrain-error:-0.493499\teval-error:-0.479953\n",
      "[199]\ttrain-rmse:44.133\teval-rmse:68.3832\ttrain-error:-0.496736\teval-error:-0.480129\n"
     ]
    },
    {
     "name": "stderr",
     "output_type": "stream",
     "text": [
      "\r",
      " 78%|███████▊  | 7/9 [00:03<00:01,  1.92it/s]"
     ]
    },
    {
     "name": "stdout",
     "output_type": "stream",
     "text": [
      "[0]\ttrain-rmse:61.5123\teval-rmse:93.9889\ttrain-error:-0.022327\teval-error:-0.017914\n",
      "Multiple eval metrics have been passed: 'eval-error' will be used for early stopping.\n",
      "\n",
      "Will train until eval-error hasn't improved in 20 rounds.\n",
      "[10]\ttrain-rmse:55.6198\teval-rmse:86.6138\ttrain-error:-0.200666\teval-error:-0.165991\n",
      "[20]\ttrain-rmse:51.8116\teval-rmse:81.3255\ttrain-error:-0.306378\teval-error:-0.264725\n",
      "[30]\ttrain-rmse:49.3886\teval-rmse:77.6371\ttrain-error:-0.369736\teval-error:-0.329906\n",
      "[40]\ttrain-rmse:47.8174\teval-rmse:75.0425\ttrain-error:-0.409198\teval-error:-0.373947\n",
      "[50]\ttrain-rmse:46.7364\teval-rmse:73.1241\ttrain-error:-0.43561\teval-error:-0.405547\n",
      "[60]\ttrain-rmse:45.9775\teval-rmse:71.7339\ttrain-error:-0.453789\teval-error:-0.427934\n",
      "[70]\ttrain-rmse:45.4225\teval-rmse:70.7802\ttrain-error:-0.466897\teval-error:-0.443045\n",
      "[80]\ttrain-rmse:44.9831\teval-rmse:70.0761\ttrain-error:-0.477162\teval-error:-0.454071\n",
      "[90]\ttrain-rmse:44.5476\teval-rmse:69.5607\ttrain-error:-0.487236\teval-error:-0.462072\n",
      "[100]\ttrain-rmse:44.1971\teval-rmse:69.1999\ttrain-error:-0.495272\teval-error:-0.467637\n",
      "[110]\ttrain-rmse:43.8927\teval-rmse:68.9484\ttrain-error:-0.5022\teval-error:-0.4715\n",
      "[120]\ttrain-rmse:43.5951\teval-rmse:68.768\ttrain-error:-0.508927\teval-error:-0.474262\n",
      "[130]\ttrain-rmse:43.3092\teval-rmse:68.6499\ttrain-error:-0.51535\teval-error:-0.476066\n",
      "[140]\ttrain-rmse:43.0753\teval-rmse:68.5895\ttrain-error:-0.520568\teval-error:-0.476987\n",
      "[150]\ttrain-rmse:42.9108\teval-rmse:68.5476\ttrain-error:-0.524225\teval-error:-0.477626\n",
      "[160]\ttrain-rmse:42.7499\teval-rmse:68.5196\ttrain-error:-0.527785\teval-error:-0.478053\n",
      "[170]\ttrain-rmse:42.5822\teval-rmse:68.4961\ttrain-error:-0.531483\teval-error:-0.478411\n",
      "[180]\ttrain-rmse:42.4384\teval-rmse:68.4859\ttrain-error:-0.534642\teval-error:-0.478566\n",
      "[190]\ttrain-rmse:42.2769\teval-rmse:68.4778\ttrain-error:-0.538178\teval-error:-0.47869\n",
      "[199]\ttrain-rmse:42.1079\teval-rmse:68.4621\ttrain-error:-0.541862\teval-error:-0.47893\n"
     ]
    },
    {
     "name": "stderr",
     "output_type": "stream",
     "text": [
      "\r",
      " 89%|████████▉ | 8/9 [00:04<00:00,  1.93it/s]"
     ]
    },
    {
     "name": "stdout",
     "output_type": "stream",
     "text": [
      "[0]\ttrain-rmse:61.4675\teval-rmse:93.9894\ttrain-error:-0.023752\teval-error:-0.017904\n",
      "Multiple eval metrics have been passed: 'eval-error' will be used for early stopping.\n",
      "\n",
      "Will train until eval-error hasn't improved in 20 rounds.\n",
      "[10]\ttrain-rmse:55.1798\teval-rmse:86.6394\ttrain-error:-0.213263\teval-error:-0.165498\n",
      "[20]\ttrain-rmse:51.0564\teval-rmse:81.4487\ttrain-error:-0.326449\teval-error:-0.262495\n",
      "[30]\ttrain-rmse:48.3314\teval-rmse:77.7241\ttrain-error:-0.396429\teval-error:-0.328404\n",
      "[40]\ttrain-rmse:46.4021\teval-rmse:75.208\ttrain-error:-0.443654\teval-error:-0.371182\n",
      "[50]\ttrain-rmse:45.0407\teval-rmse:73.4176\ttrain-error:-0.475822\teval-error:-0.400765\n",
      "[60]\ttrain-rmse:44.0734\teval-rmse:72.1321\ttrain-error:-0.498093\teval-error:-0.421566\n",
      "[70]\ttrain-rmse:43.3536\teval-rmse:71.1453\ttrain-error:-0.514355\teval-error:-0.437284\n",
      "[80]\ttrain-rmse:42.8557\teval-rmse:70.445\ttrain-error:-0.525445\teval-error:-0.448307\n",
      "[90]\ttrain-rmse:42.3277\teval-rmse:69.9388\ttrain-error:-0.537067\teval-error:-0.456208\n",
      "[100]\ttrain-rmse:41.8668\teval-rmse:69.6189\ttrain-error:-0.547094\teval-error:-0.461171\n",
      "[110]\ttrain-rmse:41.3656\teval-rmse:69.3966\ttrain-error:-0.557873\teval-error:-0.464607\n",
      "[120]\ttrain-rmse:40.9671\teval-rmse:69.2507\ttrain-error:-0.56635\teval-error:-0.466855\n",
      "[130]\ttrain-rmse:40.5958\teval-rmse:69.1319\ttrain-error:-0.574175\teval-error:-0.468683\n",
      "[140]\ttrain-rmse:40.3159\teval-rmse:69.0805\ttrain-error:-0.580027\teval-error:-0.469473\n",
      "[150]\ttrain-rmse:40.0648\teval-rmse:69.0483\ttrain-error:-0.585241\teval-error:-0.469968\n",
      "[160]\ttrain-rmse:39.8345\teval-rmse:69.055\ttrain-error:-0.589995\teval-error:-0.469864\n",
      "[170]\ttrain-rmse:39.6018\teval-rmse:69.0385\ttrain-error:-0.594773\teval-error:-0.470118\n",
      "[180]\ttrain-rmse:39.4218\teval-rmse:69.0364\ttrain-error:-0.598448\teval-error:-0.470151\n",
      "[190]\ttrain-rmse:39.2243\teval-rmse:69.0351\ttrain-error:-0.602462\teval-error:-0.47017\n",
      "Stopping. Best iteration:\n",
      "[173]\ttrain-rmse:39.5407\teval-rmse:69.0191\ttrain-error:-0.596022\teval-error:-0.470415\n",
      "\n"
     ]
    },
    {
     "name": "stderr",
     "output_type": "stream",
     "text": [
      "100%|██████████| 9/9 [00:04<00:00,  1.91it/s]\n"
     ]
    }
   ],
   "source": [
    "model.optimization(X, y, X1, y1, verbose_eval = 10, num_boost_round = 200, early_stopping = 20)"
   ]
  },
  {
   "cell_type": "code",
   "execution_count": 24,
   "metadata": {},
   "outputs": [
    {
     "data": {
      "text/html": [
       "<div>\n",
       "<style>\n",
       "    .dataframe thead tr:only-child th {\n",
       "        text-align: right;\n",
       "    }\n",
       "\n",
       "    .dataframe thead th {\n",
       "        text-align: left;\n",
       "    }\n",
       "\n",
       "    .dataframe tbody tr th {\n",
       "        vertical-align: top;\n",
       "    }\n",
       "</style>\n",
       "<table border=\"1\" class=\"dataframe\">\n",
       "  <thead>\n",
       "    <tr style=\"text-align: right;\">\n",
       "      <th></th>\n",
       "      <th>eta</th>\n",
       "      <th>max_depth</th>\n",
       "      <th>iterations</th>\n",
       "      <th>score</th>\n",
       "    </tr>\n",
       "  </thead>\n",
       "  <tbody>\n",
       "    <tr>\n",
       "      <th>0</th>\n",
       "      <td>0.03</td>\n",
       "      <td>4</td>\n",
       "      <td>185</td>\n",
       "      <td>-0.480405</td>\n",
       "    </tr>\n",
       "    <tr>\n",
       "      <th>0</th>\n",
       "      <td>0.03</td>\n",
       "      <td>5</td>\n",
       "      <td>198</td>\n",
       "      <td>-0.478946</td>\n",
       "    </tr>\n",
       "    <tr>\n",
       "      <th>0</th>\n",
       "      <td>0.02</td>\n",
       "      <td>4</td>\n",
       "      <td>199</td>\n",
       "      <td>-0.478644</td>\n",
       "    </tr>\n",
       "    <tr>\n",
       "      <th>0</th>\n",
       "      <td>0.02</td>\n",
       "      <td>5</td>\n",
       "      <td>199</td>\n",
       "      <td>-0.476226</td>\n",
       "    </tr>\n",
       "  </tbody>\n",
       "</table>\n",
       "</div>"
      ],
      "text/plain": [
       "    eta max_depth iterations     score\n",
       "0  0.03         4        185 -0.480405\n",
       "0  0.03         5        198 -0.478946\n",
       "0  0.02         4        199 -0.478644\n",
       "0  0.02         5        199 -0.476226"
      ]
     },
     "execution_count": 24,
     "metadata": {},
     "output_type": "execute_result"
    }
   ],
   "source": [
    "model.scores()"
   ]
  },
  {
   "cell_type": "code",
   "execution_count": 25,
   "metadata": {},
   "outputs": [
    {
     "name": "stdout",
     "output_type": "stream",
     "text": [
      "Built a XGBoost with defiend objective\n",
      "Use defiend funcation for eval\n",
      "{'objective': 'reg:linear', 'silent': True}\n"
     ]
    }
   ],
   "source": [
    "from sklearn.metrics import mean_absolute_error\n",
    "from sklearn.metrics import r2_score\n",
    "model = XGBoost(objective = \"reg:linear\", feval = lambda x, y: -1 * r2_score(x,y))"
   ]
  },
  {
   "cell_type": "code",
   "execution_count": 26,
   "metadata": {},
   "outputs": [
    {
     "name": "stdout",
     "output_type": "stream",
     "text": [
      "{'objective': 'reg:linear', 'silent': True}\n",
      "{'eta': [0.01, 0.02, 0.03], 'max_depth': [4, 5, 6]}\n",
      "Number of iteration for Optimization:  9\n"
     ]
    }
   ],
   "source": [
    "model.make_grid(eta = [0.01, 0.02, 0.03], max_depth = [4, 5, 6])"
   ]
  },
  {
   "cell_type": "code",
   "execution_count": 27,
   "metadata": {},
   "outputs": [
    {
     "name": "stderr",
     "output_type": "stream",
     "text": [
      "100%|██████████| 9/9 [00:03<00:00,  2.58it/s]\n"
     ]
    }
   ],
   "source": [
    "model.optimization(X, y, X1, y1, verbose_eval = False, num_boost_round = 200, early_stopping = 20)"
   ]
  },
  {
   "cell_type": "code",
   "execution_count": 28,
   "metadata": {},
   "outputs": [
    {
     "data": {
      "text/html": [
       "<div>\n",
       "<style>\n",
       "    .dataframe thead tr:only-child th {\n",
       "        text-align: right;\n",
       "    }\n",
       "\n",
       "    .dataframe thead th {\n",
       "        text-align: left;\n",
       "    }\n",
       "\n",
       "    .dataframe tbody tr th {\n",
       "        vertical-align: top;\n",
       "    }\n",
       "</style>\n",
       "<table border=\"1\" class=\"dataframe\">\n",
       "  <thead>\n",
       "    <tr style=\"text-align: right;\">\n",
       "      <th></th>\n",
       "      <th>eta</th>\n",
       "      <th>max_depth</th>\n",
       "      <th>iterations</th>\n",
       "      <th>score</th>\n",
       "    </tr>\n",
       "  </thead>\n",
       "  <tbody>\n",
       "    <tr>\n",
       "      <th>0</th>\n",
       "      <td>0.03</td>\n",
       "      <td>4</td>\n",
       "      <td>185</td>\n",
       "      <td>-0.480405</td>\n",
       "    </tr>\n",
       "    <tr>\n",
       "      <th>0</th>\n",
       "      <td>0.03</td>\n",
       "      <td>5</td>\n",
       "      <td>198</td>\n",
       "      <td>-0.478946</td>\n",
       "    </tr>\n",
       "    <tr>\n",
       "      <th>0</th>\n",
       "      <td>0.02</td>\n",
       "      <td>4</td>\n",
       "      <td>199</td>\n",
       "      <td>-0.478644</td>\n",
       "    </tr>\n",
       "    <tr>\n",
       "      <th>0</th>\n",
       "      <td>0.02</td>\n",
       "      <td>5</td>\n",
       "      <td>199</td>\n",
       "      <td>-0.476226</td>\n",
       "    </tr>\n",
       "  </tbody>\n",
       "</table>\n",
       "</div>"
      ],
      "text/plain": [
       "    eta max_depth iterations     score\n",
       "0  0.03         4        185 -0.480405\n",
       "0  0.03         5        198 -0.478946\n",
       "0  0.02         4        199 -0.478644\n",
       "0  0.02         5        199 -0.476226"
      ]
     },
     "execution_count": 28,
     "metadata": {},
     "output_type": "execute_result"
    }
   ],
   "source": [
    "model.scores()"
   ]
  },
  {
   "cell_type": "code",
   "execution_count": 29,
   "metadata": {
    "collapsed": true
   },
   "outputs": [],
   "source": [
    "def error(y_true, y_pred):\n",
    "    total = abs(y_true - y_pred)\n",
    "    total[np.where(total > 0.4)] = 0.4\n",
    "    total[total > 10] = 10\n",
    "    return sum(total) / len(y_true)"
   ]
  },
  {
   "cell_type": "code",
   "execution_count": 30,
   "metadata": {},
   "outputs": [
    {
     "name": "stdout",
     "output_type": "stream",
     "text": [
      "Built a XGBoost with defiend objective\n",
      "Use defiend funcation for eval\n",
      "{'objective': 'reg:linear', 'silent': True}\n"
     ]
    }
   ],
   "source": [
    "model = XGBoost(objective = \"reg:linear\", feval = lambda x, y: error(x,y))"
   ]
  },
  {
   "cell_type": "code",
   "execution_count": 31,
   "metadata": {},
   "outputs": [
    {
     "name": "stdout",
     "output_type": "stream",
     "text": [
      "{'objective': 'reg:linear', 'silent': True}\n",
      "{'eta': [0.01, 0.02, 0.03], 'max_depth': [4, 5, 6]}\n",
      "Number of iteration for Optimization:  9\n"
     ]
    }
   ],
   "source": [
    "model.make_grid(eta = [0.01, 0.02, 0.03], max_depth = [4, 5, 6])"
   ]
  },
  {
   "cell_type": "code",
   "execution_count": 32,
   "metadata": {},
   "outputs": [
    {
     "name": "stderr",
     "output_type": "stream",
     "text": [
      "100%|██████████| 9/9 [00:00<00:00, 14.52it/s]\n"
     ]
    }
   ],
   "source": [
    "model.optimization(X, y, X1, y1, verbose_eval = False, num_boost_round = 200, early_stopping = 20)"
   ]
  },
  {
   "cell_type": "code",
   "execution_count": null,
   "metadata": {
    "collapsed": true
   },
   "outputs": [],
   "source": []
  }
 ],
 "metadata": {
  "kernelspec": {
   "display_name": "Python 3",
   "language": "python",
   "name": "python3"
  },
  "language_info": {
   "codemirror_mode": {
    "name": "ipython",
    "version": 3
   },
   "file_extension": ".py",
   "mimetype": "text/x-python",
   "name": "python",
   "nbconvert_exporter": "python",
   "pygments_lexer": "ipython3",
   "version": "3.6.3"
  }
 },
 "nbformat": 4,
 "nbformat_minor": 2
}
