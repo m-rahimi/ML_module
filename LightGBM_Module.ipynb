{
 "cells": [
  {
   "cell_type": "code",
   "execution_count": 1,
   "metadata": {
    "collapsed": true
   },
   "outputs": [],
   "source": [
    "%matplotlib inline\n",
    "import numpy as np\n",
    "import matplotlib.pyplot as plt"
   ]
  },
  {
   "cell_type": "code",
   "execution_count": 61,
   "metadata": {},
   "outputs": [],
   "source": [
    "'''\n",
    "LightGBM module\n",
    "\n",
    "the module can be use for both classification and regression problem the appropriate objective method should be defined.\n",
    "more information can be find here\n",
    "https://github.com/Microsoft/LightGBM/blob/master/docs/Parameters.rst\n",
    "http://lightgbm.readthedocs.io/en/latest/Python-API.html\n",
    "\n",
    "AT THE MOMENT\n",
    "User can NOT define a customized objective function and evaluation function\n",
    "\n",
    "optimization with grid search is easy first make a grid\n",
    "\n",
    "make_grid(learning_rate = [1, 2, 3], max_depth = [3, 4, 5])\n",
    "\n",
    "then run the optimization\n",
    "optimization(self, X, y, X_test, y_test, verbose_eval = False, num_boost_round = None, early_stopping = 2)\n",
    "\n",
    "to see the result and select best parameters\n",
    "scores()\n",
    "\n",
    "\n",
    "get the importance features and plot them is another awesome part of this module :)\n",
    "\n",
    "get_importance()\n",
    "plot_importance()\n",
    "\n",
    "comparision of XGB and LGB\n",
    "https://sites.google.com/view/lauraepp/parameters\n",
    "\n",
    "used skopt module for bayesian optimization\n",
    "\n",
    "'''\n",
    "import lightgbm as lgb\n",
    "import pandas as pd\n",
    "from skopt.space import Real, Integer\n",
    "from skopt.utils import use_named_args\n",
    "from skopt import gp_minimize\n",
    "from skopt.plots import plot_convergence\n",
    "import matplotlib.pyplot as plt\n",
    "import seaborn as sns\n",
    "import warnings\n",
    "from tqdm import tqdm\n",
    "\n",
    "color = sns.color_palette()\n",
    "\n",
    "class LGB(object):\n",
    "    def __init__(self, num_boost_round=10, objective=None, metric='None', feval=None, fobj=None, **kwargs):\n",
    "        self.clf = None\n",
    "        self.grid_params = None\n",
    "        self.result = None\n",
    "        self.grid_list = []\n",
    "        self.feval = feval\n",
    "        self.fobj = fobj\n",
    "        self.num_boost_round = num_boost_round\n",
    "        self.params = kwargs\n",
    "        if not fobj:\n",
    "            if objective:\n",
    "                print(\"Built a LightGBM with defiend objective function\")\n",
    "                self.params.update({'boosting_type': 'gbdt', 'objective' : objective, 'metric' : metric})               \n",
    "            else:\n",
    "                print(\"Built a LightGBM with default objective\")\n",
    "                self.params.update({'boosting_type': 'gbdt', 'objective' : 'regression_l2', 'metric' : 'l1'})\n",
    "            \n",
    "        print(self.params)\n",
    "        \n",
    "    def set_params(self, print_out=True, **params):\n",
    "        if 'num_boost_round' in params:\n",
    "            self.num_boost_round = params.pop('num_boost_round')\n",
    "        self.params.update(params)\n",
    "        if print_out:\n",
    "            print(self.params)\n",
    "            \n",
    "    def set_params_scores(self, dt, N=1):\n",
    "        print(self.params)\n",
    "        params = dt.iloc[N].to_dict()\n",
    "        if 'score' in params:\n",
    "            del params['score']\n",
    "        if 'num_boost_round' in params:\n",
    "            self.num_boost_round = params.pop('num_boost_round')\n",
    "#            del params['num_boost_round']\n",
    "        self.params.update(params)\n",
    "        print(self.params)\n",
    "        \n",
    "    def fit(self, X, y, num_boost_round=None):\n",
    "        num_boost_round = num_boost_round or self.num_boost_round\n",
    "        dtrain = lgb.Dataset(X, label=y)\n",
    "        self.clf = lgb.train(params=self.params, train_set=dtrain, num_boost_round=num_boost_round)\n",
    "        \n",
    "    def predict(self, X):\n",
    "        return self.clf.predict(X)\n",
    "    \n",
    "    def get_params(self, deep=True):\n",
    "        return self.params\n",
    "\n",
    "    def get_importance(self):\n",
    "        importance = {}\n",
    "        for key, val in zip(self.clf.feature_name(), self.clf.feature_importance()):\n",
    "            importance[key] = val\n",
    "        return importance\n",
    "\n",
    "    def plot_importance(self, N = 10):\n",
    "        importance = {}\n",
    "        for key, val in zip(self.clf.feature_name(), self.clf.feature_importance()):\n",
    "            importance[key] = val\n",
    "\n",
    "        import operator\n",
    "        importance = sorted(importance.items(), key=operator.itemgetter(1))\n",
    "\n",
    "        importance_df = pd.DataFrame(importance, columns=['feature', 'fscore'])\n",
    "        importance_df['fscore'] = importance_df['fscore'] / importance_df['fscore'].sum()\n",
    "\n",
    "        plt.figure()\n",
    "        importance_df[-N:].plot(kind='barh', x='feature', y='fscore', legend=False, figsize=(10, 5))\n",
    "        plt.title('XGBoost Feature Importance')\n",
    "        plt.xlabel('relative importance')\n",
    "        plt.ylabel('')\n",
    "        plt.show()\n",
    "    \n",
    "    def fit_eval(self, X, y, X_test, y_test, verbose_eval = False, num_boost_round = None, early_stopping = 5,\n",
    "                 print_out=False):\n",
    "        num_boost_round = num_boost_round or self.num_boost_round\n",
    "        dtrain = lgb.Dataset(X, label=y)\n",
    "        dtest = lgb.Dataset(X_test, y_test, reference=dtrain)\n",
    "        \n",
    "        if self.feval == None:\n",
    "            self.clf = lgb.train(params = self.params, train_set = dtrain, num_boost_round = num_boost_round,\n",
    "                             valid_sets = [dtrain, dtest], valid_names = ['train', 'valid'],\n",
    "                             verbose_eval = verbose_eval,\n",
    "                             early_stopping_rounds = early_stopping)\n",
    "        else:\n",
    "            self.params.update({'metric': 'None'})\n",
    "            self.clf = lgb.train(params = self.params, train_set = dtrain, num_boost_round = num_boost_round,\n",
    "                             valid_sets = [dtrain, dtest], valid_names = ['train', 'valid'],\n",
    "                             verbose_eval = verbose_eval,\n",
    "#                             feval = self.evalerror, \n",
    "                             early_stopping_rounds = early_stopping)\n",
    "\n",
    "        if print_out:\n",
    "            print(\"Number of iteration: \", self.clf.best_iteration, \" Score: \", self.clf.best_score['valid'])\n",
    "            return\n",
    "        else:\n",
    "            return self.clf.best_score['valid'][list(self.clf.best_score['valid'].keys())[0]]\n",
    "        \n",
    "    def fit_cv(self, X, y, cv, verbose_eval = False, num_boost_round = None, early_stopping = 5,\n",
    "                 print_out=False):\n",
    "        \n",
    "        num_boost_round = num_boost_round or self.num_boost_round\n",
    "        scores = []\n",
    "        for i, (train_index, test_index) in enumerate(cv.split(X, y)):\n",
    "            dtrain = lgb.Dataset(X[train_index], label=y[train_index])\n",
    "            dtest = lgb.Dataset(X[test_index], label=y[test_index])\n",
    "\n",
    "            if self.feval == None:\n",
    "                self.clf = lgb.train(params = self.params, train_set = dtrain, num_boost_round = num_boost_round,\n",
    "                             valid_sets = [dtrain, dtest], valid_names = ['train', 'valid'],\n",
    "                             verbose_eval = verbose_eval,\n",
    "                             early_stopping_rounds = early_stopping)\n",
    "            else:\n",
    "                self.params.update({'metric': 'None'})\n",
    "                self.clf = lgb.train(params = self.params, train_set = dtrain, num_boost_round = num_boost_round,\n",
    "                             valid_sets = [dtrain, dtest], valid_names = ['train', 'valid'],\n",
    "                             verbose_eval = verbose_eval,\n",
    "#                             feval = self.evalerror, \n",
    "                             early_stopping_rounds = early_stopping)\n",
    "            \n",
    "            scores.append(self.clf.best_score['valid'][list(self.clf.best_score['valid'].keys())[0]])\n",
    "            \n",
    "            if print_out:\n",
    "                print(\"Kfold: \", i, \"Number of iteration: \", self.clf.best_iteration, \" Score: \", self.clf.best_score['valid'])\n",
    "\n",
    "        if not print_out:\n",
    "            return np.mean(scores)\n",
    "\n",
    "        \n",
    "    def grid(self, keys, comb, it=0):\n",
    "        if len(keys) == it:\n",
    "            return\n",
    "\n",
    "        for x in self.grid_params[keys[it]]:\n",
    "            comb.append(x)\n",
    "            self.grid(keys, comb, it+1)\n",
    "            if len(comb) == len(keys):\n",
    "                self.grid_list.append(comb[:])\n",
    "            comb.pop()\n",
    "    \n",
    "    def make_grid(self, **kwargs):\n",
    "        self.grid_list = []\n",
    "        self.grid_params = kwargs\n",
    "        print(self.params)\n",
    "        print(self.grid_params)\n",
    "        self.grid(list(self.grid_params.keys()), [])\n",
    "        print(\"Number of iteration for Optimization: \", len(self.grid_list))\n",
    "        \n",
    "    def optimization(self, X, y, X_test, y_test, verbose_eval = False, num_boost_round = None, early_stopping = 2):\n",
    "        num_boost_round = num_boost_round or self.num_boost_round\n",
    "        dtrain = lgb.Dataset(X, label=y)\n",
    "        dtest = lgb.Dataset(X_test, y_test, reference=dtrain)\n",
    "\n",
    "        col = list(self.grid_params.keys()) + ['iterations', 'score']\n",
    "        self.result = pd.DataFrame(columns=col)\n",
    "\n",
    "        for i in tqdm(range(len(self.grid_list))):\n",
    "            temp = {}\n",
    "            for j, key in enumerate(self.grid_params.keys()):\n",
    "                temp[key] = self.grid_list[i][j]\n",
    "            temp.update(self.params)\n",
    "\n",
    "            if self.feval == None:\n",
    "                self.clf = lgb.train(params = temp, train_set = dtrain, num_boost_round = num_boost_round,\n",
    "                                 valid_sets = [dtrain, dtest], valid_names = ['train', 'valid'],\n",
    "                                 verbose_eval = False,\n",
    "                                 early_stopping_rounds = early_stopping)\n",
    "            else:\n",
    "                self.params.update({'metric': 'None'})\n",
    "                self.clf = lgb.train(params = temp, train_set = dtrain, num_boost_round = num_boost_round,\n",
    "                                 valid_sets = [dtrain, dtest], valid_names = ['train', 'valid'],\n",
    "                                 verbose_eval = False,\n",
    "    #                             feval = self.evalerror, \n",
    "                                 early_stopping_rounds = early_stopping)\n",
    "            \n",
    "            score = self.clf.best_score['valid'][list(self.clf.best_score['valid'].keys())[0]]\n",
    "            self.result = self.result.append(pd.DataFrame([self.grid_list[i] + [self.clf.best_iteration, score]], columns=col))\n",
    "    \n",
    "    def scores(self, N=4):\n",
    "        return self.result.sort_values(\"score\")[:N]\n",
    "    \n",
    "    def bayesian(self, X, y, X_test=None, y_test=None, cv=None, nstopping = 5, ncalls = 10, seed=0,\n",
    "                 warrning=False, **kwargs):\n",
    "        if not warrning:\n",
    "            print(\"Ignore UserWarning\")\n",
    "            warnings.filterwarnings(\"ignore\")\n",
    "        if cv:\n",
    "            print(\"CV optimization\")\n",
    "        print(kwargs)\n",
    "        space = []\n",
    "        for key, val in kwargs.items():\n",
    "            if key == \"learning_rate\":\n",
    "                space.append(Real(val[0], val[1], \"log-uniform\", name='learning_rate'))\n",
    "            elif key == \"num_leaves\":\n",
    "                space.append(Integer(val[0], val[1], name='num_leaves'))\n",
    "            elif key == 'subsample': \n",
    "                space.append(Real(val[0], val[1], \"uniform\", name='subsample'))\n",
    "            elif key == 'colsample_bytree': \n",
    "                space.append(Real(val[0], val[1], \"uniform\", name='colsample_bytree'))\n",
    "            elif key == \"reg_lambda\":\n",
    "                space.append(Real(val[0], val[1], \"uniform\", name='reg_lambda'))\n",
    "            elif key == \"reg_alpha\":\n",
    "                space.append(Real(val[0], val[1], \"uniform\", name='reg_alpha'))\n",
    "            elif key == \"min_split_gain\":\n",
    "                space.append(Real(val[0], val[1], \"uniform\", name='min_split_gain'))\n",
    "            elif key == \"min_child_samples\":\n",
    "                space.append(Integer(val[0], val[1], name='min_child_samples'))\n",
    "            elif key == \"scale_pos_weight\":\n",
    "                space.append(Integer(val[0], val[1], name='scale_pos_weight'))\n",
    "            else:\n",
    "                print(\"Error: Invalid parameter\")\n",
    "        \n",
    "        print(space)\n",
    "                \n",
    "                \n",
    "        @use_named_args(space)\n",
    "        def objective(**params):\n",
    "            self.set_params(print_out=False, **params)\n",
    "            \n",
    "            if cv:\n",
    "                return self.fit_cv(X, y, cv, verbose_eval = False, num_boost_round = self.num_boost_round, \n",
    "                                 early_stopping = nstopping)\n",
    "            else:\n",
    "                return self.fit_eval(X, y, X_test, y_test, verbose_eval = False, num_boost_round = self.num_boost_round, \n",
    "                                 early_stopping = nstopping)\n",
    "        \n",
    "\n",
    "        res_gp = gp_minimize(objective, space, n_calls = ncalls, random_state=seed)\n",
    "    \n",
    "        plot_convergence(res_gp)\n",
    "        \n",
    "        col = list(kwargs.keys()) + ['score']\n",
    "        self.result = pd.DataFrame(columns=col)\n",
    "        \n",
    "        for val, score in zip(res_gp.x_iters, res_gp.func_vals):\n",
    "            self.result = self.result.append(pd.DataFrame([val + [score]], columns=col))"
   ]
  },
  {
   "cell_type": "markdown",
   "metadata": {},
   "source": [
    "# Create data set"
   ]
  },
  {
   "cell_type": "code",
   "execution_count": 62,
   "metadata": {},
   "outputs": [
    {
     "data": {
      "image/png": "[encoded data removed]",
      "text/plain": [
       "<matplotlib.figure.Figure at 0x1a1fd865c0>"
      ]
     },
     "metadata": {},
     "output_type": "display_data"
    }
   ],
   "source": [
    "# create a dataset for regression problem\n",
    "import numpy as np\n",
    "from matplotlib import pyplot as plt\n",
    "\n",
    "from sklearn import linear_model, datasets\n",
    "\n",
    "\n",
    "n_samples = 1000\n",
    "n_outliers = 50\n",
    "\n",
    "\n",
    "X, y, coef = datasets.make_regression(n_samples=n_samples, n_features=1,\n",
    "                                      n_informative=1, noise=50,\n",
    "                                      coef=True, random_state=1)\n",
    "\n",
    "X1, y1, coef = datasets.make_regression(n_samples=n_samples, n_features=1,\n",
    "                                      n_informative=1, noise=50,\n",
    "                                      coef=True, random_state=0)\n",
    "\n",
    "plt.scatter(X, y, color='yellowgreen', marker='.',\n",
    "            label='Inliers')\n",
    "#plt.show()\n",
    "\n",
    "plt.scatter(X1, y1, color='red', marker='.',\n",
    "            label='Inliers')\n",
    "plt.show()"
   ]
  },
  {
   "cell_type": "markdown",
   "metadata": {},
   "source": [
    "# Simple test"
   ]
  },
  {
   "cell_type": "code",
   "execution_count": 63,
   "metadata": {},
   "outputs": [
    {
     "name": "stdout",
     "output_type": "stream",
     "text": [
      "Built a LightGBM with defiend objective function\n",
      "{'boosting_type': 'gbdt', 'objective': 'regression', 'metric': {'l2_root', 'l1'}}\n"
     ]
    }
   ],
   "source": [
    "model = LGB(boosting_type = 'gbdt', objective = 'regression', metric = {'l1', 'l2_root'}, num_boost_round=200)"
   ]
  },
  {
   "cell_type": "code",
   "execution_count": 64,
   "metadata": {},
   "outputs": [
    {
     "name": "stdout",
     "output_type": "stream",
     "text": [
      "Training until validation scores don't improve for 5 rounds.\n",
      "[5]\ttrain's l1: 42.8796\ttrain's rmse: 53.2341\tvalid's l1: 65.8375\tvalid's rmse: 82.7214\n",
      "[10]\ttrain's l1: 40.0536\ttrain's rmse: 49.525\tvalid's l1: 60.825\tvalid's rmse: 76.1783\n",
      "[15]\ttrain's l1: 38.8535\ttrain's rmse: 48.0146\tvalid's l1: 58.1248\tvalid's rmse: 72.5638\n",
      "[20]\ttrain's l1: 38.2787\ttrain's rmse: 47.3325\tvalid's l1: 56.6209\tvalid's rmse: 70.6381\n",
      "[25]\ttrain's l1: 37.9908\ttrain's rmse: 46.9708\tvalid's l1: 55.7476\tvalid's rmse: 69.4726\n",
      "[30]\ttrain's l1: 37.7405\ttrain's rmse: 46.7126\tvalid's l1: 55.279\tvalid's rmse: 68.8418\n",
      "[35]\ttrain's l1: 37.5669\ttrain's rmse: 46.519\tvalid's l1: 54.9603\tvalid's rmse: 68.4425\n",
      "[40]\ttrain's l1: 37.4325\ttrain's rmse: 46.346\tvalid's l1: 54.8508\tvalid's rmse: 68.3074\n",
      "[45]\ttrain's l1: 37.3055\ttrain's rmse: 46.1921\tvalid's l1: 54.797\tvalid's rmse: 68.2343\n",
      "[50]\ttrain's l1: 37.1963\ttrain's rmse: 46.0528\tvalid's l1: 54.7923\tvalid's rmse: 68.1957\n",
      "Early stopping, best iteration is:\n",
      "[46]\ttrain's l1: 37.2828\ttrain's rmse: 46.1635\tvalid's l1: 54.7619\tvalid's rmse: 68.1983\n"
     ]
    },
    {
     "data": {
      "text/plain": [
       "54.761868509626531"
      ]
     },
     "execution_count": 64,
     "metadata": {},
     "output_type": "execute_result"
    }
   ],
   "source": [
    "model.fit_eval(X, y, X1, y1, verbose_eval=5, num_boost_round=100)"
   ]
  },
  {
   "cell_type": "code",
   "execution_count": 65,
   "metadata": {
    "collapsed": true
   },
   "outputs": [],
   "source": [
    "pred = model.predict(X1)"
   ]
  },
  {
   "cell_type": "code",
   "execution_count": 66,
   "metadata": {},
   "outputs": [
    {
     "data": {
      "text/plain": [
       "54.761868519182244"
      ]
     },
     "execution_count": 66,
     "metadata": {},
     "output_type": "execute_result"
    }
   ],
   "source": [
    "from sklearn.metrics import mean_absolute_error\n",
    "mean_absolute_error(pred, y1)"
   ]
  },
  {
   "cell_type": "markdown",
   "metadata": {},
   "source": [
    "# Grid Search"
   ]
  },
  {
   "cell_type": "code",
   "execution_count": 67,
   "metadata": {},
   "outputs": [
    {
     "name": "stdout",
     "output_type": "stream",
     "text": [
      "{'boosting_type': 'gbdt', 'objective': 'regression', 'metric': {'l2_root', 'l1'}, 'verbose': 1}\n",
      "{'learning_rate': [0.1, 0.02], 'num_leaves': [20, 25, 30]}\n",
      "Number of iteration for Optimization:  6\n"
     ]
    }
   ],
   "source": [
    "model.make_grid(learning_rate = [0.1, 0.02], num_leaves = [20, 25, 30])"
   ]
  },
  {
   "cell_type": "code",
   "execution_count": 9,
   "metadata": {},
   "outputs": [
    {
     "name": "stderr",
     "output_type": "stream",
     "text": [
      "100%|██████████| 6/6 [00:02<00:00,  2.50it/s]\n"
     ]
    }
   ],
   "source": [
    "model.optimization(X, y, X1, y1, verbose_eval=5, num_boost_round=100)"
   ]
  },
  {
   "cell_type": "code",
   "execution_count": 10,
   "metadata": {},
   "outputs": [
    {
     "data": {
      "text/html": [
       "<div>\n",
       "<style>\n",
       "    .dataframe thead tr:only-child th {\n",
       "        text-align: right;\n",
       "    }\n",
       "\n",
       "    .dataframe thead th {\n",
       "        text-align: left;\n",
       "    }\n",
       "\n",
       "    .dataframe tbody tr th {\n",
       "        vertical-align: top;\n",
       "    }\n",
       "</style>\n",
       "<table border=\"1\" class=\"dataframe\">\n",
       "  <thead>\n",
       "    <tr style=\"text-align: right;\">\n",
       "      <th></th>\n",
       "      <th>learning_rate</th>\n",
       "      <th>num_leaves</th>\n",
       "      <th>iterations</th>\n",
       "      <th>score</th>\n",
       "    </tr>\n",
       "  </thead>\n",
       "  <tbody>\n",
       "    <tr>\n",
       "      <th>0</th>\n",
       "      <td>0.10</td>\n",
       "      <td>20</td>\n",
       "      <td>43</td>\n",
       "      <td>54.669652</td>\n",
       "    </tr>\n",
       "    <tr>\n",
       "      <th>0</th>\n",
       "      <td>0.10</td>\n",
       "      <td>25</td>\n",
       "      <td>46</td>\n",
       "      <td>54.727353</td>\n",
       "    </tr>\n",
       "    <tr>\n",
       "      <th>0</th>\n",
       "      <td>0.10</td>\n",
       "      <td>30</td>\n",
       "      <td>41</td>\n",
       "      <td>54.811202</td>\n",
       "    </tr>\n",
       "    <tr>\n",
       "      <th>0</th>\n",
       "      <td>0.02</td>\n",
       "      <td>20</td>\n",
       "      <td>100</td>\n",
       "      <td>56.623674</td>\n",
       "    </tr>\n",
       "  </tbody>\n",
       "</table>\n",
       "</div>"
      ],
      "text/plain": [
       "   learning_rate num_leaves iterations      score\n",
       "0           0.10         20         43  54.669652\n",
       "0           0.10         25         46  54.727353\n",
       "0           0.10         30         41  54.811202\n",
       "0           0.02         20        100  56.623674"
      ]
     },
     "execution_count": 10,
     "metadata": {},
     "output_type": "execute_result"
    }
   ],
   "source": [
    "model.scores()"
   ]
  },
  {
   "cell_type": "markdown",
   "metadata": {},
   "source": [
    "# Bayesin minimization"
   ]
  },
  {
   "cell_type": "code",
   "execution_count": 38,
   "metadata": {},
   "outputs": [
    {
     "name": "stdout",
     "output_type": "stream",
     "text": [
      "Built a LightGBM with defiend objective function\n",
      "{'boosting_type': 'gbdt', 'objective': 'regression', 'metric': {'l2_root', 'l1'}}\n"
     ]
    }
   ],
   "source": [
    "model = LGB(boosting_type = 'gbdt', objective = 'regression', metric = {'l1', 'l2_root'}, num_boost_round=200)"
   ]
  },
  {
   "cell_type": "code",
   "execution_count": 39,
   "metadata": {},
   "outputs": [
    {
     "name": "stdout",
     "output_type": "stream",
     "text": [
      "Ignore UserWarning\n",
      "{'learning_rate': [0.01, 0.05], 'num_leaves': [20, 50], 'subsample': [0.5, 1], 'colsample_bytree': [0.5, 1], 'min_child_samples': [1, 20], 'min_split_gain': [0, 10], 'reg_lambda': [0, 10], 'reg_alpha': [0, 10]}\n",
      "[Real(low=0.01, high=0.05, prior='log-uniform', transform='identity'), Integer(low=20, high=50), Real(low=0.5, high=1, prior='uniform', transform='identity'), Real(low=0.5, high=1, prior='uniform', transform='identity'), Integer(low=1, high=20), Real(low=0, high=10, prior='uniform', transform='identity'), Real(low=0, high=10, prior='uniform', transform='identity'), Real(low=0, high=10, prior='uniform', transform='identity')]\n"
     ]
    },
    {
     "data": {
      "image/png": "[encoded data removed]",
      "text/plain": [
       "<matplotlib.figure.Figure at 0x11297d2b0>"
      ]
     },
     "metadata": {},
     "output_type": "display_data"
    }
   ],
   "source": [
    "model.bayesian(X, y, X1, y1, ncalls=20, nstopping=5, seed=10, \n",
    "               learning_rate = [0.01, 0.05], num_leaves = [20, 50], subsample = [0.5, 1],\n",
    "               colsample_bytree = [0.5, 1], min_child_samples = [1, 20], min_split_gain = [0, 10],\n",
    "               reg_lambda = [0, 10], reg_alpha = [0, 10])"
   ]
  },
  {
   "cell_type": "code",
   "execution_count": 41,
   "metadata": {},
   "outputs": [
    {
     "data": {
      "text/html": [
       "<div>\n",
       "<style>\n",
       "    .dataframe thead tr:only-child th {\n",
       "        text-align: right;\n",
       "    }\n",
       "\n",
       "    .dataframe thead th {\n",
       "        text-align: left;\n",
       "    }\n",
       "\n",
       "    .dataframe tbody tr th {\n",
       "        vertical-align: top;\n",
       "    }\n",
       "</style>\n",
       "<table border=\"1\" class=\"dataframe\">\n",
       "  <thead>\n",
       "    <tr style=\"text-align: right;\">\n",
       "      <th></th>\n",
       "      <th>learning_rate</th>\n",
       "      <th>num_leaves</th>\n",
       "      <th>subsample</th>\n",
       "      <th>colsample_bytree</th>\n",
       "      <th>min_child_samples</th>\n",
       "      <th>min_split_gain</th>\n",
       "      <th>reg_lambda</th>\n",
       "      <th>reg_alpha</th>\n",
       "      <th>score</th>\n",
       "    </tr>\n",
       "  </thead>\n",
       "  <tbody>\n",
       "    <tr>\n",
       "      <th>0</th>\n",
       "      <td>0.026196</td>\n",
       "      <td>20</td>\n",
       "      <td>0.724260</td>\n",
       "      <td>0.709784</td>\n",
       "      <td>15</td>\n",
       "      <td>4.410210</td>\n",
       "      <td>0.000000</td>\n",
       "      <td>2.593946</td>\n",
       "      <td>54.621810</td>\n",
       "    </tr>\n",
       "    <tr>\n",
       "      <th>0</th>\n",
       "      <td>0.025350</td>\n",
       "      <td>20</td>\n",
       "      <td>0.600880</td>\n",
       "      <td>0.722925</td>\n",
       "      <td>16</td>\n",
       "      <td>2.424114</td>\n",
       "      <td>1.222015</td>\n",
       "      <td>4.259453</td>\n",
       "      <td>54.625205</td>\n",
       "    </tr>\n",
       "    <tr>\n",
       "      <th>0</th>\n",
       "      <td>0.026851</td>\n",
       "      <td>20</td>\n",
       "      <td>0.501951</td>\n",
       "      <td>0.669358</td>\n",
       "      <td>15</td>\n",
       "      <td>1.439753</td>\n",
       "      <td>0.000000</td>\n",
       "      <td>0.000000</td>\n",
       "      <td>54.630397</td>\n",
       "    </tr>\n",
       "    <tr>\n",
       "      <th>0</th>\n",
       "      <td>0.025318</td>\n",
       "      <td>20</td>\n",
       "      <td>0.527205</td>\n",
       "      <td>0.503743</td>\n",
       "      <td>16</td>\n",
       "      <td>10.000000</td>\n",
       "      <td>0.000000</td>\n",
       "      <td>3.733675</td>\n",
       "      <td>54.657719</td>\n",
       "    </tr>\n",
       "  </tbody>\n",
       "</table>\n",
       "</div>"
      ],
      "text/plain": [
       "   learning_rate num_leaves  subsample  colsample_bytree min_child_samples  \\\n",
       "0       0.026196         20   0.724260          0.709784                15   \n",
       "0       0.025350         20   0.600880          0.722925                16   \n",
       "0       0.026851         20   0.501951          0.669358                15   \n",
       "0       0.025318         20   0.527205          0.503743                16   \n",
       "\n",
       "   min_split_gain  reg_lambda  reg_alpha      score  \n",
       "0        4.410210    0.000000   2.593946  54.621810  \n",
       "0        2.424114    1.222015   4.259453  54.625205  \n",
       "0        1.439753    0.000000   0.000000  54.630397  \n",
       "0       10.000000    0.000000   3.733675  54.657719  "
      ]
     },
     "execution_count": 41,
     "metadata": {},
     "output_type": "execute_result"
    }
   ],
   "source": [
    "model.scores()"
   ]
  },
  {
   "cell_type": "code",
   "execution_count": 42,
   "metadata": {
    "collapsed": true
   },
   "outputs": [],
   "source": [
    "dt = model.scores()"
   ]
  },
  {
   "cell_type": "code",
   "execution_count": 44,
   "metadata": {},
   "outputs": [
    {
     "name": "stdout",
     "output_type": "stream",
     "text": [
      "Built a LightGBM with defiend objective function\n",
      "{'boosting_type': 'gbdt', 'objective': 'regression', 'metric': {'l2_root', 'l1'}}\n"
     ]
    }
   ],
   "source": [
    "model = LGB(boosting_type = 'gbdt', objective = 'regression', metric = {'l1', 'l2_root'}, num_boost_round=200)"
   ]
  },
  {
   "cell_type": "code",
   "execution_count": 45,
   "metadata": {},
   "outputs": [
    {
     "name": "stdout",
     "output_type": "stream",
     "text": [
      "{'boosting_type': 'gbdt', 'objective': 'regression', 'metric': {'l2_root', 'l1'}}\n",
      "{'boosting_type': 'gbdt', 'objective': 'regression', 'metric': {'l2_root', 'l1'}, 'learning_rate': 0.026851117010767575, 'num_leaves': 20, 'subsample': 0.50195065985466703, 'colsample_bytree': 0.6693579118628703, 'min_child_samples': 15, 'min_split_gain': 1.4397532595046498, 'reg_lambda': 0.0, 'reg_alpha': 0.0}\n"
     ]
    }
   ],
   "source": [
    "model.set_params_scores(dt, N=2)"
   ]
  },
  {
   "cell_type": "code",
   "execution_count": 59,
   "metadata": {},
   "outputs": [
    {
     "name": "stdout",
     "output_type": "stream",
     "text": [
      "Built a LightGBM with defiend objective function\n",
      "{'boosting_type': 'gbdt', 'verbose': -1, 'objective': 'regression', 'metric': {'l2_root', 'l1'}}\n"
     ]
    }
   ],
   "source": [
    "model = LGB(boosting_type = 'gbdt', objective = 'regression', metric = {'l1', 'l2_root'}, num_boost_round=200, verbose=-1)"
   ]
  },
  {
   "cell_type": "code",
   "execution_count": 60,
   "metadata": {},
   "outputs": [
    {
     "name": "stdout",
     "output_type": "stream",
     "text": [
      "{'boosting_type': 'gbdt', 'verbose': -1, 'objective': 'regression', 'metric': {'l2_root', 'l1'}}\n",
      "{'boosting_type': 'gbdt', 'verbose': -1, 'objective': 'regression', 'metric': {'l2_root', 'l1'}}\n"
     ]
    },
    {
     "data": {
      "text/plain": [
       "54.761868509626538"
      ]
     },
     "execution_count": 60,
     "metadata": {},
     "output_type": "execute_result"
    }
   ],
   "source": [
    "model.fit_eval(X, y, X1, y1, verbose_eval=False)"
   ]
  },
  {
   "cell_type": "code",
   "execution_count": 55,
   "metadata": {},
   "outputs": [
    {
     "data": {
      "text/plain": [
       "{'boosting_type': 'gbdt',\n",
       " 'metric': {'l1', 'l2_root'},\n",
       " 'objective': 'regression',\n",
       " 'verbose': 1}"
      ]
     },
     "execution_count": 55,
     "metadata": {},
     "output_type": "execute_result"
    }
   ],
   "source": [
    "model.get_params()"
   ]
  },
  {
   "cell_type": "code",
   "execution_count": null,
   "metadata": {
    "collapsed": true
   },
   "outputs": [],
   "source": []
  }
 ],
 "metadata": {
  "kernelspec": {
   "display_name": "Python 3",
   "language": "python",
   "name": "python3"
  },
  "language_info": {
   "codemirror_mode": {
    "name": "ipython",
    "version": 3
   },
   "file_extension": ".py",
   "mimetype": "text/x-python",
   "name": "python",
   "nbconvert_exporter": "python",
   "pygments_lexer": "ipython3",
   "version": "3.6.3"
  }
 },
 "nbformat": 4,
 "nbformat_minor": 2
}
