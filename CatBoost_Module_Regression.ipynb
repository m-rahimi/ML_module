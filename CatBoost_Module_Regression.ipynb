{
 "cells": [
  {
   "cell_type": "code",
   "execution_count": 1,
   "metadata": {},
   "outputs": [],
   "source": [
    "%matplotlib inline\n",
    "import numpy as np\n",
    "import matplotlib.pyplot as plt"
   ]
  },
  {
   "cell_type": "code",
   "execution_count": 97,
   "metadata": {},
   "outputs": [],
   "source": [
    "'''\n",
    "LightGBM module\n",
    "\n",
    "the module can be use for both classification and regression problem the appropriate objective method should be defined.\n",
    "more information can be find here\n",
    "https://github.com/Microsoft/LightGBM/blob/master/docs/Parameters.rst\n",
    "http://lightgbm.readthedocs.io/en/latest/Python-API.html\n",
    "\n",
    "AT THE MOMENT\n",
    "User can NOT define a customized objective function and evaluation function\n",
    "\n",
    "optimization with grid search is easy first make a grid\n",
    "\n",
    "make_grid(learning_rate = [1, 2, 3], max_depth = [3, 4, 5])\n",
    "\n",
    "then run the optimization\n",
    "optimization(self, X, y, X_test, y_test, verbose_eval = False, num_boost_round = None, early_stopping = 2)\n",
    "\n",
    "to see the result and select best parameters\n",
    "scores()\n",
    "\n",
    "\n",
    "get the importance features and plot them is another awesome part of this module :)\n",
    "\n",
    "get_importance()\n",
    "plot_importance()\n",
    "\n",
    "comparision of XGB and LGB\n",
    "https://sites.google.com/view/lauraepp/parameters\n",
    "\n",
    "used skopt module for bayesian optimization\n",
    "\n",
    "'''\n",
    "import catboost as cb\n",
    "import pandas as pd\n",
    "from skopt.space import Real, Integer\n",
    "from skopt.utils import use_named_args\n",
    "from skopt import gp_minimize\n",
    "from skopt.plots import plot_convergence\n",
    "import matplotlib.pyplot as plt\n",
    "import seaborn as sns\n",
    "import warnings\n",
    "from io import StringIO\n",
    "import sys\n",
    "from tqdm import tqdm\n",
    "\n",
    "color = sns.color_palette()\n",
    "\n",
    "class CAT(object):\n",
    "    def __init__(self, num_boost_round=10, objective=None, metric=None, fobj=None, **kwargs):\n",
    "        self.clf = None\n",
    "        self.grid_params = None\n",
    "        self.result = None\n",
    "        self.grid_list = []\n",
    "        self.fobj = fobj\n",
    "        self.best_iteration = 0\n",
    "        self.num_boost_round = num_boost_round\n",
    "        self.params = kwargs\n",
    "        if not fobj:\n",
    "            if objective:\n",
    "                print(\"Built a CatBoost with defiend objective function\")\n",
    "                self.objective = objective\n",
    "                self.metric = metric\n",
    "#                self.clf = cb.CatBoostClassifier(objective = objective, eval_metric = metric, **self.params)\n",
    "            else:\n",
    "                print(\"Built a Catboost with default objective\")\n",
    "                self.objective = 'Logloss'\n",
    "                self.eval_metric = 'AUC'\n",
    "#                self.clf = cb.CatBoostClassifier(objective = 'Logloss', eval_metric = 'AUC', **self.params)\n",
    "            \n",
    "        print(self.params)\n",
    "        \n",
    "    def set_params(self, print_out=True, **params):\n",
    "        if 'num_boost_round' in params:\n",
    "            self.num_boost_round = params.pop('num_boost_round')\n",
    "        self.params.update(params)\n",
    "        if print_out:\n",
    "            print(self.params)\n",
    "            \n",
    "    def set_params_scores(self, dt, N=1):\n",
    "        print(self.params)\n",
    "        params = dt.iloc[N].to_dict()\n",
    "        if 'score' in params:\n",
    "            del params['score']\n",
    "        if 'iterations' in params:\n",
    "            self.num_boost_round = params.pop('iterations')\n",
    "        self.params.update(params)\n",
    "        print(self.params)\n",
    "        \n",
    "    def set_params_dic(self, dic):\n",
    "        if 'num_boost_round' in dic:\n",
    "            self.num_boost_round = dic.pop('num_boost_round')\n",
    "        self.params.update(dic)\n",
    "        print(self.params)\n",
    "        \n",
    "    def fit(self, X, y, num_boost_round=None, categorical=None, verbose=False):\n",
    "        num_boost_round = num_boost_round or self.num_boost_round\n",
    "        self.clf = cb.CatBoostRegressor(objective = self.objective, eval_metric = self.metric, \n",
    "                                         iterations=num_boost_round, **self.params)\n",
    "        self.clf.fit(X=X, y=y, cat_features=categorical, verbose_eval=verbose)\n",
    "        \n",
    "    def predict(self, X):\n",
    "        return self.clf.predict(X)\n",
    "    \n",
    "    def predict_proba(self, X):\n",
    "        return self.clf.predict_proba(X)\n",
    "    \n",
    "    def get_params(self, deep=True):\n",
    "        return self.params\n",
    "\n",
    "    def get_importance(self, X):\n",
    "        importance = {}\n",
    "        for key, val in zip(X.columns, self.clf.get_feature_importance(cb.Pool(X))):\n",
    "            importance[key] = val\n",
    "        return importance\n",
    "\n",
    "    def plot_importance(self, N = 10):\n",
    "        importance = {}\n",
    "        for key, val in zip(self.clf.feature_name(), self.clf.feature_importance()):\n",
    "            importance[key] = val\n",
    "\n",
    "        import operator\n",
    "        importance = sorted(importance.items(), key=operator.itemgetter(1))\n",
    "\n",
    "        importance_df = pd.DataFrame(importance, columns=['feature', 'fscore'])\n",
    "        importance_df['fscore'] = importance_df['fscore'] / importance_df['fscore'].sum()\n",
    "\n",
    "        plt.figure()\n",
    "        importance_df[-N:].plot(kind='barh', x='feature', y='fscore', legend=False, figsize=(10, 5))\n",
    "        plt.title('XGBoost Feature Importance')\n",
    "        plt.xlabel('relative importance')\n",
    "        plt.ylabel('')\n",
    "        plt.show()\n",
    "    \n",
    "    def fit_eval(self, X, y, X_test, y_test, num_boost_round = None, early_stopping = 5,\n",
    "                 categorical=None, train_score=False, Min=True, print_out=False):\n",
    "        num_boost_round = num_boost_round or self.num_boost_round\n",
    "        \n",
    "        self.clf = cb.CatBoostRegressor(objective = self.objective, eval_metric = self.metric, \n",
    "                                    iterations=num_boost_round, od_type='Iter', od_wait=early_stopping, **self.params)\n",
    "\n",
    "        old_stdout = sys.stdout #write output\n",
    "        result = StringIO()\n",
    "        sys.stdout = result\n",
    "\n",
    "        self.clf.fit(X=X, y=y, eval_set=(X_test, y_test), use_best_model=True,\n",
    "                 cat_features=categorical, verbose_eval=50)\n",
    "\n",
    "        sys.stdout = old_stdout\n",
    "        result_string = result.getvalue()\n",
    "        \n",
    "        nstr = result_string.find(\"bestTest\")\n",
    "        score = float(result_string[nstr+11:nstr+20])\n",
    "        best_iteration = self.clf.tree_count_\n",
    "        if print_out:\n",
    "#            print(\"Number of iteration: \", self.clf.tree_count_, \" Score: \", score)\n",
    "            return {\"iteration\":self.clf.tree_count_, \"score\":score} \n",
    "        else:\n",
    "            if Min:\n",
    "                return score\n",
    "            else:\n",
    "                return -score\n",
    "        \n",
    "    def fit_cv(self, X, y, cv, verbose_eval = False, num_boost_round = None, early_stopping = 5,\n",
    "                 categorical=None, print_out=False, Min=True):\n",
    "        \n",
    "        num_boost_round = num_boost_round or self.num_boost_round\n",
    "        \n",
    "        self.clf = cb.CatBoostRegressor(objective = self.objective, eval_metric = self.metric, \n",
    "                                    iterations=num_boost_round, od_type='Iter', od_wait=early_stopping, **self.params)\n",
    "        scores = []\n",
    "        \n",
    "        for i, (train_index, test_index) in enumerate(cv.split(X, y)):\n",
    "\n",
    "            old_stdout = sys.stdout #write output\n",
    "            result = StringIO()\n",
    "            sys.stdout = result\n",
    "            \n",
    "            self.clf.fit(X=X[train_index], y=y[train_index], eval_set=(X[test_index], y[test_index]), use_best_model=True,\n",
    "                     cat_features=categorical, verbose_eval=50)\n",
    "\n",
    "            sys.stdout = old_stdout\n",
    "            result_string = result.getvalue()\n",
    "            \n",
    "            nstr = result_string.find(\"bestTest\")\n",
    "            score = float(result_string[nstr+11:nstr+20])\n",
    "            scores.append(score)\n",
    "            \n",
    "            if print_out:\n",
    "                print(\"Kfold: \", i, \"Number of iteration: \", self.clf.tree_count_, \" Score: \", score)\n",
    "#                return {\"Kfold: \": i,\"iteration\":self.clf.tree_count_, \"score\":score}\n",
    "\n",
    "        if not print_out:\n",
    "            if Min:\n",
    "                return np.mean(scores)\n",
    "            else:\n",
    "                return -np.mean(scores)\n",
    "\n",
    "        \n",
    "    def grid(self, keys, comb, it=0):\n",
    "        if len(keys) == it:\n",
    "            return\n",
    "\n",
    "        for x in self.grid_params[keys[it]]:\n",
    "            comb.append(x)\n",
    "            self.grid(keys, comb, it+1)\n",
    "            if len(comb) == len(keys):\n",
    "                self.grid_list.append(comb[:])\n",
    "            comb.pop()\n",
    "    \n",
    "    def make_grid(self, **kwargs):\n",
    "        self.grid_list = []\n",
    "        self.grid_params = kwargs\n",
    "        print(self.params)\n",
    "        print(self.grid_params)\n",
    "        self.grid(list(self.grid_params.keys()), [])\n",
    "        print(\"Number of iteration for Optimization: \", len(self.grid_list))\n",
    "        \n",
    "    def optimization(self, X, y, X_test=None, y_test=None, cv=None, verbose_eval = False, num_boost_round = None, early_stopping = 2,\n",
    "                     categorical=None):\n",
    "        \n",
    "        if categorical:\n",
    "            print(\"Used categorical features: \", categorical)\n",
    "            warnings.filterwarnings(\"ignore\")\n",
    "            \n",
    "        num_boost_round = num_boost_round or self.num_boost_round\n",
    "        param_backup = self.params\n",
    "\n",
    "        col = list(self.grid_params.keys()) + ['iterations', 'score']\n",
    "        self.result = pd.DataFrame(columns=col)\n",
    "\n",
    "        for i in tqdm(range(len(self.grid_list))):\n",
    "            temp = {}\n",
    "            for j, key in enumerate(self.grid_params.keys()):\n",
    "                temp[key] = self.grid_list[i][j]\n",
    "            self.params.update(temp)\n",
    "\n",
    "            if cv:\n",
    "                out = self.fit_cv(X, y, cv, num_boost_round = num_boost_round, early_stopping = early_stopping,\n",
    "                      categorical=categorical, Min=True, print_out=False)\n",
    "                self.result = self.result.append(pd.DataFrame([self.grid_list[i] + [self.clf.tree_count_ , out]], columns=col))\n",
    "            else:\n",
    "                out = self.fit_eval(X, y, X_test, y_test, num_boost_round = num_boost_round, early_stopping = early_stopping,\n",
    "                      categorical=categorical, train_score=False, Min=True, print_out=True)\n",
    "                self.result = self.result.append(pd.DataFrame([self.grid_list[i] + [out[\"iteration\"], out[\"score\"]]], columns=col))\n",
    "            \n",
    "            \n",
    "    \n",
    "    def scores(self, N=4, Min=True):\n",
    "        return self.result.sort_values(\"score\", ascending=Min)[:N]\n",
    "    \n",
    "    def bayesian(self, X, y, X_test=None, y_test=None, cv=None, early_stopping = 5, ncalls = 10, seed=0,\n",
    "                 categorical=None, num_boost_round=None, warrning=False, Min=True, **kwargs):\n",
    "        \n",
    "        num_boost_round = num_boost_round or self.num_boost_round\n",
    "        \n",
    "        if not warrning:\n",
    "            print(\"Ignore UserWarning\")\n",
    "            warnings.filterwarnings(\"ignore\")\n",
    "        if cv:\n",
    "            print(\"CV optimization\")\n",
    "        print(kwargs)\n",
    "        space = []\n",
    "        for key, val in kwargs.items():\n",
    "            \n",
    "            if key == \"learning_rate\":\n",
    "                space.append(Real(val[0], val[1], \"log-uniform\", name='learning_rate'))\n",
    "            elif key == \"depth\":\n",
    "                space.append(Integer(val[0], val[1], name='depth'))\n",
    "            elif key == 'subsample': \n",
    "                space.append(Real(val[0], val[1], \"uniform\", name='subsample'))\n",
    "            elif key == 'colsample_bylevel': \n",
    "                space.append(Real(val[0], val[1], \"uniform\", name='colsample_bylevel'))\n",
    "            elif key == \"reg_lambda\":\n",
    "                space.append(Real(val[0], val[1], \"uniform\", name='reg_lambda'))\n",
    "            elif key == \"scale_pos_weight\":\n",
    "                space.append(Integer(val[0], val[1], name='scale_pos_weight'))\n",
    "            else:\n",
    "                print(\"Error: Invalid parameter\", key)\n",
    "        \n",
    "        print(space)\n",
    "                \n",
    "                \n",
    "        @use_named_args(space)\n",
    "        def objective(**params):\n",
    "            self.set_params(print_out=False, **params)\n",
    "            \n",
    "            if cv:\n",
    "                return self.fit_cv(X, y, cv, num_boost_round = num_boost_round, \n",
    "                                 categorical=categorical, early_stopping = early_stopping, Min=Min)\n",
    "            else:\n",
    "                return self.fit_eval(X, y, X_test, y_test, num_boost_round = num_boost_round, \n",
    "                                 categorical=categorical, early_stopping = early_stopping, Min=Min)\n",
    "        \n",
    "\n",
    "        res_gp = gp_minimize(objective, space, n_calls = ncalls, random_state=seed)\n",
    "    \n",
    "        plot_convergence(res_gp)\n",
    "        \n",
    "        col = list(kwargs.keys()) + ['score']\n",
    "        self.result = pd.DataFrame(columns=col)\n",
    "        \n",
    "        for val, score in zip(res_gp.x_iters, res_gp.func_vals):\n",
    "            self.result = self.result.append(pd.DataFrame([val + [score]], columns=col))"
   ]
  },
  {
   "cell_type": "markdown",
   "metadata": {},
   "source": [
    "# Create data set"
   ]
  },
  {
   "cell_type": "code",
   "execution_count": 98,
   "metadata": {},
   "outputs": [],
   "source": [
    "from matplotlib.colors import ListedColormap\n",
    "from sklearn.model_selection import train_test_split\n",
    "from sklearn.preprocessing import StandardScaler\n",
    "from sklearn.datasets import make_regression"
   ]
  },
  {
   "cell_type": "code",
   "execution_count": 99,
   "metadata": {},
   "outputs": [
    {
     "data": {
      "text/plain": [
       "<matplotlib.collections.PathCollection at 0x3345924b70>"
      ]
     },
     "execution_count": 99,
     "metadata": {},
     "output_type": "execute_result"
    },
    {
     "data": {
      "image/png": "[encoded data removed]",
      "text/plain": [
       "<matplotlib.figure.Figure at 0x3345740390>"
      ]
     },
     "metadata": {},
     "output_type": "display_data"
    }
   ],
   "source": [
    "X, y = make_regression(n_samples=1000, n_features=2,\n",
    "                                      n_informative=1, noise=30)\n",
    "\n",
    "x_min, x_max = X[:, 0].min() - .5, X[:, 0].max() + .5\n",
    "y_min, y_max = y.min() - .5, y.max() + .5\n",
    "xx, yy = np.meshgrid(np.arange(x_min, x_max, 0.02),\n",
    "                     np.arange(y_min, y_max, 0.02))\n",
    "\n",
    "X = StandardScaler().fit_transform(X)\n",
    "X, X1, y, y1 = train_test_split(X, y, test_size=.4, random_state=42)\n",
    "\n",
    "# # just plot the dataset first\n",
    "# figure = plt.figure(figsize=(8, 6))\n",
    "# cm = plt.cm.RdBu\n",
    "# cm_bright = ListedColormap(['#FF0000', '#0000FF'])\n",
    "# #ax = plt.subplot(len(datasets), len(classifiers) + 1, i)\n",
    "\n",
    "# # Plot the training points\n",
    "plt.scatter(X[:, 0], y, edgecolors='k')\n",
    "# # and testing points\n",
    "plt.scatter(X1[:, 0], y1, alpha=0.6, edgecolors='k')"
   ]
  },
  {
   "cell_type": "code",
   "execution_count": 100,
   "metadata": {},
   "outputs": [],
   "source": [
    "import pandas as pd\n",
    "train = pd.DataFrame(X, columns=[\"col1\", \"col2\"])\n",
    "test = pd.DataFrame(X1, columns=[\"col1\", \"col2\"])"
   ]
  },
  {
   "cell_type": "markdown",
   "metadata": {},
   "source": [
    "# simple fit"
   ]
  },
  {
   "cell_type": "code",
   "execution_count": 101,
   "metadata": {},
   "outputs": [
    {
     "name": "stdout",
     "output_type": "stream",
     "text": [
      "Built a CatBoost with defiend objective function\n",
      "{'learning_rate': 0.1, 'depth': 7, 'random_seed': 123}\n"
     ]
    }
   ],
   "source": [
    "clf = CAT(objective='RMSE', metric='MAE', learning_rate=0.1, depth=7, random_seed=123)"
   ]
  },
  {
   "cell_type": "code",
   "execution_count": 102,
   "metadata": {},
   "outputs": [
    {
     "name": "stdout",
     "output_type": "stream",
     "text": [
      "0:\tlearn: 25.3717772\ttotal: 2.18ms\tremaining: 216ms\n",
      "10:\tlearn: 23.6950753\ttotal: 35.3ms\tremaining: 286ms\n",
      "20:\tlearn: 23.0168689\ttotal: 66.7ms\tremaining: 251ms\n",
      "30:\tlearn: 22.5175173\ttotal: 99.4ms\tremaining: 221ms\n",
      "40:\tlearn: 22.1523135\ttotal: 131ms\tremaining: 189ms\n",
      "50:\tlearn: 21.8143360\ttotal: 172ms\tremaining: 165ms\n",
      "60:\tlearn: 21.5496792\ttotal: 199ms\tremaining: 127ms\n",
      "70:\tlearn: 21.2574668\ttotal: 231ms\tremaining: 94.2ms\n",
      "80:\tlearn: 21.0082518\ttotal: 263ms\tremaining: 61.7ms\n",
      "90:\tlearn: 20.7463404\ttotal: 292ms\tremaining: 28.9ms\n"
     ]
    }
   ],
   "source": [
    "clf.fit(X, y, num_boost_round=100, verbose=10)"
   ]
  },
  {
   "cell_type": "code",
   "execution_count": 103,
   "metadata": {},
   "outputs": [],
   "source": [
    "y_pred = clf.predict(X1)"
   ]
  },
  {
   "cell_type": "code",
   "execution_count": 104,
   "metadata": {},
   "outputs": [
    {
     "data": {
      "text/plain": [
       "1003.9406698704028"
      ]
     },
     "execution_count": 104,
     "metadata": {},
     "output_type": "execute_result"
    }
   ],
   "source": [
    "from sklearn.metrics import mean_squared_error\n",
    "mean_squared_error(y1, y_pred)"
   ]
  },
  {
   "cell_type": "code",
   "execution_count": 105,
   "metadata": {},
   "outputs": [
    {
     "data": {
      "text/plain": [
       "25.38529102423615"
      ]
     },
     "execution_count": 105,
     "metadata": {},
     "output_type": "execute_result"
    }
   ],
   "source": [
    "from sklearn.metrics import mean_absolute_error\n",
    "mean_absolute_error(y1, y_pred) "
   ]
  },
  {
   "cell_type": "markdown",
   "metadata": {},
   "source": [
    "# early stop"
   ]
  },
  {
   "cell_type": "code",
   "execution_count": 106,
   "metadata": {},
   "outputs": [
    {
     "name": "stdout",
     "output_type": "stream",
     "text": [
      "Built a CatBoost with defiend objective function\n",
      "{'learning_rate': 0.1, 'depth': 7, 'random_seed': 123}\n"
     ]
    }
   ],
   "source": [
    "clf = CAT(objective='RMSE', metric='MAE', learning_rate=0.1, depth=7, random_seed=123)"
   ]
  },
  {
   "cell_type": "code",
   "execution_count": 107,
   "metadata": {},
   "outputs": [
    {
     "data": {
      "text/plain": [
       "{'iteration': 14, 'score': 24.39669}"
      ]
     },
     "execution_count": 107,
     "metadata": {},
     "output_type": "execute_result"
    }
   ],
   "source": [
    "clf.fit_eval(train, y, test, y1, num_boost_round=500, early_stopping=5, print_out=True)"
   ]
  },
  {
   "cell_type": "code",
   "execution_count": 108,
   "metadata": {},
   "outputs": [
    {
     "data": {
      "text/plain": [
       "24.396690782213437"
      ]
     },
     "execution_count": 108,
     "metadata": {},
     "output_type": "execute_result"
    }
   ],
   "source": [
    "y_pred = clf.predict(X1)\n",
    "mean_absolute_error(y1, y_pred) "
   ]
  },
  {
   "cell_type": "code",
   "execution_count": 109,
   "metadata": {},
   "outputs": [],
   "source": [
    "params = {\n",
    "    'learning_rate': 0.05,\n",
    "    'depth': 6,  \n",
    "    'bootstrap_type': \"Bernoulli\", # Bernoulli, Bayesian\n",
    "#    'bagging_temperature' : 0.5, # Controls the intensity of Bayesian bagging for Bayesian\n",
    "    'subsample': 0.9,  # Sample rate for bagging\n",
    "    'colsample_bylevel': 0.9,  # Subsample ratio of columns when constructing each tree.\n",
    "#    'reg_lambda': 0,  # L2 regularization term on weights\n",
    "#    'scale_pos_weight': 1,\n",
    "#    'class_weights' :  # for imbalance data\n",
    "    'calc_feature_importance': True}"
   ]
  },
  {
   "cell_type": "code",
   "execution_count": 110,
   "metadata": {},
   "outputs": [
    {
     "name": "stdout",
     "output_type": "stream",
     "text": [
      "{'learning_rate': 0.05, 'depth': 6, 'random_seed': 123, 'bootstrap_type': 'Bernoulli', 'subsample': 0.9, 'colsample_bylevel': 0.9, 'calc_feature_importance': True}\n"
     ]
    }
   ],
   "source": [
    "clf.set_params_dic(params)"
   ]
  },
  {
   "cell_type": "code",
   "execution_count": 111,
   "metadata": {},
   "outputs": [
    {
     "data": {
      "text/plain": [
       "{'iteration': 40, 'score': 24.326092}"
      ]
     },
     "execution_count": 111,
     "metadata": {},
     "output_type": "execute_result"
    }
   ],
   "source": [
    "clf.fit_eval(X, y, X1, y1, num_boost_round=500, early_stopping=5, print_out=True)"
   ]
  },
  {
   "cell_type": "code",
   "execution_count": 113,
   "metadata": {},
   "outputs": [
    {
     "data": {
      "text/plain": [
       "{'col1': 65.64927352079336, 'col2': 34.35072647920665}"
      ]
     },
     "execution_count": 113,
     "metadata": {},
     "output_type": "execute_result"
    }
   ],
   "source": [
    "clf.get_importance(train)"
   ]
  },
  {
   "cell_type": "markdown",
   "metadata": {},
   "source": [
    "# Grid Search"
   ]
  },
  {
   "cell_type": "code",
   "execution_count": 117,
   "metadata": {},
   "outputs": [
    {
     "name": "stdout",
     "output_type": "stream",
     "text": [
      "{'learning_rate': 0.05, 'depth': 6, 'random_seed': 123, 'bootstrap_type': 'Bernoulli', 'subsample': 0.9, 'colsample_bylevel': 0.9, 'calc_feature_importance': True}\n"
     ]
    }
   ],
   "source": [
    "clf.set_params_dic(params)"
   ]
  },
  {
   "cell_type": "code",
   "execution_count": 118,
   "metadata": {},
   "outputs": [
    {
     "name": "stdout",
     "output_type": "stream",
     "text": [
      "{'learning_rate': 0.05, 'depth': 6, 'random_seed': 123, 'bootstrap_type': 'Bernoulli', 'subsample': 0.9, 'colsample_bylevel': 0.9, 'calc_feature_importance': True}\n",
      "{'learning_rate': [0.01, 0.05, 0.1], 'depth': [5, 6, 7, 8]}\n",
      "Number of iteration for Optimization:  12\n"
     ]
    }
   ],
   "source": [
    "clf.make_grid(learning_rate = [0.01, 0.05, 0.1], depth = [5, 6, 7, 8])"
   ]
  },
  {
   "cell_type": "code",
   "execution_count": 119,
   "metadata": {},
   "outputs": [
    {
     "name": "stderr",
     "output_type": "stream",
     "text": [
      "100%|██████████| 12/12 [00:02<00:00,  4.69it/s]\n"
     ]
    }
   ],
   "source": [
    "clf.optimization(X, y, X1, y1, num_boost_round=500, early_stopping=5)"
   ]
  },
  {
   "cell_type": "code",
   "execution_count": 120,
   "metadata": {},
   "outputs": [
    {
     "data": {
      "text/html": [
       "<div>\n",
       "<style scoped>\n",
       "    .dataframe tbody tr th:only-of-type {\n",
       "        vertical-align: middle;\n",
       "    }\n",
       "\n",
       "    .dataframe tbody tr th {\n",
       "        vertical-align: top;\n",
       "    }\n",
       "\n",
       "    .dataframe thead th {\n",
       "        text-align: right;\n",
       "    }\n",
       "</style>\n",
       "<table border=\"1\" class=\"dataframe\">\n",
       "  <thead>\n",
       "    <tr style=\"text-align: right;\">\n",
       "      <th></th>\n",
       "      <th>learning_rate</th>\n",
       "      <th>depth</th>\n",
       "      <th>iterations</th>\n",
       "      <th>score</th>\n",
       "    </tr>\n",
       "  </thead>\n",
       "  <tbody>\n",
       "    <tr>\n",
       "      <th>0</th>\n",
       "      <td>0.10</td>\n",
       "      <td>6</td>\n",
       "      <td>20</td>\n",
       "      <td>24.306083</td>\n",
       "    </tr>\n",
       "    <tr>\n",
       "      <th>0</th>\n",
       "      <td>0.05</td>\n",
       "      <td>6</td>\n",
       "      <td>40</td>\n",
       "      <td>24.326092</td>\n",
       "    </tr>\n",
       "    <tr>\n",
       "      <th>0</th>\n",
       "      <td>0.01</td>\n",
       "      <td>5</td>\n",
       "      <td>189</td>\n",
       "      <td>24.335765</td>\n",
       "    </tr>\n",
       "    <tr>\n",
       "      <th>0</th>\n",
       "      <td>0.01</td>\n",
       "      <td>6</td>\n",
       "      <td>163</td>\n",
       "      <td>24.341748</td>\n",
       "    </tr>\n",
       "  </tbody>\n",
       "</table>\n",
       "</div>"
      ],
      "text/plain": [
       "   learning_rate depth iterations      score\n",
       "0           0.10     6         20  24.306083\n",
       "0           0.05     6         40  24.326092\n",
       "0           0.01     5        189  24.335765\n",
       "0           0.01     6        163  24.341748"
      ]
     },
     "execution_count": 120,
     "metadata": {},
     "output_type": "execute_result"
    }
   ],
   "source": [
    "clf.scores()"
   ]
  },
  {
   "cell_type": "code",
   "execution_count": 121,
   "metadata": {},
   "outputs": [
    {
     "name": "stdout",
     "output_type": "stream",
     "text": [
      "{'learning_rate': 0.1, 'depth': 8, 'random_seed': 123, 'bootstrap_type': 'Bernoulli', 'subsample': 0.9, 'colsample_bylevel': 0.9, 'calc_feature_importance': True}\n",
      "{'learning_rate': 0.1, 'depth': 6, 'random_seed': 123, 'bootstrap_type': 'Bernoulli', 'subsample': 0.9, 'colsample_bylevel': 0.9, 'calc_feature_importance': True}\n"
     ]
    }
   ],
   "source": [
    "clf.set_params_scores(clf.scores(), N=0)"
   ]
  },
  {
   "cell_type": "code",
   "execution_count": 122,
   "metadata": {},
   "outputs": [],
   "source": [
    "clf.fit(X, y)"
   ]
  },
  {
   "cell_type": "code",
   "execution_count": 123,
   "metadata": {},
   "outputs": [
    {
     "data": {
      "text/plain": [
       "24.306083769225637"
      ]
     },
     "execution_count": 123,
     "metadata": {},
     "output_type": "execute_result"
    }
   ],
   "source": [
    "y_pred = clf.predict(X1)\n",
    "\n",
    "mean_absolute_error(y1, y_pred) "
   ]
  },
  {
   "cell_type": "markdown",
   "metadata": {},
   "source": [
    "# CV "
   ]
  },
  {
   "cell_type": "code",
   "execution_count": 124,
   "metadata": {},
   "outputs": [],
   "source": [
    "from sklearn.model_selection import KFold\n",
    "kf = KFold(n_splits=3)"
   ]
  },
  {
   "cell_type": "code",
   "execution_count": 125,
   "metadata": {},
   "outputs": [
    {
     "name": "stdout",
     "output_type": "stream",
     "text": [
      "Kfold:  0 Number of iteration:  21  Score:  24.505787\n",
      "Kfold:  1 Number of iteration:  16  Score:  22.501871\n",
      "Kfold:  2 Number of iteration:  29  Score:  25.77851\n"
     ]
    }
   ],
   "source": [
    "clf.fit_cv(X, y, kf, verbose_eval = False, num_boost_round = 1000, early_stopping = 5, print_out=True)"
   ]
  },
  {
   "cell_type": "markdown",
   "metadata": {},
   "source": [
    "# Bayesin"
   ]
  },
  {
   "cell_type": "code",
   "execution_count": 126,
   "metadata": {},
   "outputs": [
    {
     "name": "stdout",
     "output_type": "stream",
     "text": [
      "Ignore UserWarning\n",
      "{'learning_rate': [0.01, 0.1], 'depth': [4, 10]}\n",
      "[Real(low=0.01, high=0.1, prior='log-uniform', transform='identity'), Integer(low=4, high=10)]\n"
     ]
    },
    {
     "data": {
      "image/png": "[encoded data removed]",
      "text/plain": [
       "<matplotlib.figure.Figure at 0x33415f08d0>"
      ]
     },
     "metadata": {},
     "output_type": "display_data"
    }
   ],
   "source": [
    "clf.bayesian(X, y, X1, y1, ncalls=20, num_boost_round=100, learning_rate = [0.01, 0.1], depth = [4, 10])"
   ]
  },
  {
   "cell_type": "code",
   "execution_count": 127,
   "metadata": {},
   "outputs": [
    {
     "data": {
      "text/html": [
       "<div>\n",
       "<style scoped>\n",
       "    .dataframe tbody tr th:only-of-type {\n",
       "        vertical-align: middle;\n",
       "    }\n",
       "\n",
       "    .dataframe tbody tr th {\n",
       "        vertical-align: top;\n",
       "    }\n",
       "\n",
       "    .dataframe thead th {\n",
       "        text-align: right;\n",
       "    }\n",
       "</style>\n",
       "<table border=\"1\" class=\"dataframe\">\n",
       "  <thead>\n",
       "    <tr style=\"text-align: right;\">\n",
       "      <th></th>\n",
       "      <th>learning_rate</th>\n",
       "      <th>depth</th>\n",
       "      <th>score</th>\n",
       "    </tr>\n",
       "  </thead>\n",
       "  <tbody>\n",
       "    <tr>\n",
       "      <th>0</th>\n",
       "      <td>0.1</td>\n",
       "      <td>4</td>\n",
       "      <td>24.252831</td>\n",
       "    </tr>\n",
       "    <tr>\n",
       "      <th>0</th>\n",
       "      <td>0.1</td>\n",
       "      <td>4</td>\n",
       "      <td>24.252831</td>\n",
       "    </tr>\n",
       "    <tr>\n",
       "      <th>0</th>\n",
       "      <td>0.1</td>\n",
       "      <td>4</td>\n",
       "      <td>24.252831</td>\n",
       "    </tr>\n",
       "    <tr>\n",
       "      <th>0</th>\n",
       "      <td>0.1</td>\n",
       "      <td>4</td>\n",
       "      <td>24.252831</td>\n",
       "    </tr>\n",
       "  </tbody>\n",
       "</table>\n",
       "</div>"
      ],
      "text/plain": [
       "   learning_rate depth      score\n",
       "0            0.1     4  24.252831\n",
       "0            0.1     4  24.252831\n",
       "0            0.1     4  24.252831\n",
       "0            0.1     4  24.252831"
      ]
     },
     "execution_count": 127,
     "metadata": {},
     "output_type": "execute_result"
    }
   ],
   "source": [
    "clf.scores()"
   ]
  },
  {
   "cell_type": "code",
   "execution_count": null,
   "metadata": {
    "collapsed": true
   },
   "outputs": [],
   "source": [
    "# "
   ]
  }
 ],
 "metadata": {
  "kernelspec": {
   "display_name": "Python 3",
   "language": "python",
   "name": "python3"
  },
  "language_info": {
   "codemirror_mode": {
    "name": "ipython",
    "version": 3
   },
   "file_extension": ".py",
   "mimetype": "text/x-python",
   "name": "python",
   "nbconvert_exporter": "python",
   "pygments_lexer": "ipython3",
   "version": "3.6.3"
  }
 },
 "nbformat": 4,
 "nbformat_minor": 2
}
