{
 "cells": [
  {
   "cell_type": "code",
   "execution_count": 1,
   "metadata": {
    "collapsed": true
   },
   "outputs": [],
   "source": [
    "%matplotlib inline\n",
    "import numpy as np\n",
    "import matplotlib.pyplot as plt"
   ]
  },
  {
   "cell_type": "code",
   "execution_count": 2,
   "metadata": {
    "collapsed": true
   },
   "outputs": [],
   "source": [
    "'''\n",
    "LightGBM module\n",
    "\n",
    "the module can be use for both classification and regression problem the appropriate objective method should be defined.\n",
    "more information can be find here\n",
    "https://github.com/Microsoft/LightGBM/blob/master/docs/Parameters.rst\n",
    "http://lightgbm.readthedocs.io/en/latest/Python-API.html\n",
    "\n",
    "AT THE MOMENT\n",
    "User can NOT define a customized objective function and evaluation function\n",
    "\n",
    "optimization with grid search is easy first make a grid\n",
    "\n",
    "make_grid(learning_rate = [1, 2, 3], max_depth = [3, 4, 5])\n",
    "\n",
    "then run the optimization\n",
    "optimization(self, X, y, X_test, y_test, verbose_eval = False, num_boost_round = None, early_stopping = 2)\n",
    "\n",
    "to see the result and select best parameters\n",
    "scores()\n",
    "\n",
    "\n",
    "get the importance features and plot them is another awesome part of this module :)\n",
    "\n",
    "get_importance()\n",
    "plot_importance()\n",
    "\n",
    "comparision of XGB and LGB\n",
    "https://sites.google.com/view/lauraepp/parameters\n",
    "\n",
    "used skopt module for bayesian optimization\n",
    "\n",
    "'''\n",
    "import catboost as cb\n",
    "import pandas as pd\n",
    "from skopt.space import Real, Integer\n",
    "from skopt.utils import use_named_args\n",
    "from skopt import gp_minimize\n",
    "from skopt.plots import plot_convergence\n",
    "import matplotlib.pyplot as plt\n",
    "import seaborn as sns\n",
    "import warnings\n",
    "from io import StringIO\n",
    "import sys\n",
    "from tqdm import tqdm\n",
    "\n",
    "color = sns.color_palette()\n",
    "\n",
    "class CLF(object):\n",
    "    def __init__(self, num_boost_round=10, objective=None, metric='None', feval=None, fobj=None, **kwargs):\n",
    "        self.clf = None\n",
    "        self.grid_params = None\n",
    "        self.result = None\n",
    "        self.grid_list = []\n",
    "        self.feval = feval\n",
    "        self.fobj = fobj\n",
    "        self.num_boost_round = num_boost_round\n",
    "        self.params = kwargs\n",
    "        if not fobj:\n",
    "            if objective:\n",
    "                print(\"Built a CatBoost with defiend objective function\")\n",
    "                self.objective = objective\n",
    "                self.metric = metric\n",
    "#                self.clf = cb.CatBoostClassifier(objective = objective, eval_metric = metric, **self.params)\n",
    "            else:\n",
    "                print(\"Built a Catboost with default objective\")\n",
    "                self.objective = 'Logloss'\n",
    "                self.eval_metric = 'AUC'\n",
    "#                self.clf = cb.CatBoostClassifier(objective = 'Logloss', eval_metric = 'AUC', **self.params)\n",
    "            \n",
    "        print(self.params)\n",
    "        \n",
    "    def set_params(self, print_out=True, **params):\n",
    "        if 'num_boost_round' in params:\n",
    "            self.num_boost_round = params.pop('num_boost_round')\n",
    "        self.params.update(params)\n",
    "        if print_out:\n",
    "            print(self.params)\n",
    "            \n",
    "    def set_params_scores(self, dt, N=1):\n",
    "        print(self.params)\n",
    "        params = dt.iloc[N].to_dict()\n",
    "        if 'score' in params:\n",
    "            del params['score']\n",
    "        if 'iterations' in params:\n",
    "            self.num_boost_round = params.pop('iterations')\n",
    "        self.params.update(params)\n",
    "        print(self.params)\n",
    "        \n",
    "    def set_params_dic(self, dic):\n",
    "        if 'num_boost_round' in dic:\n",
    "            self.num_boost_round = dic.pop('num_boost_round')\n",
    "        self.params.update(dic)\n",
    "        print(self.params)\n",
    "        \n",
    "    def fit(self, X, y, num_boost_round=None, categorical=None, verbose=False):\n",
    "        num_boost_round = num_boost_round or self.num_boost_round\n",
    "        self.clf = cb.CatBoostRegressor(objective = self.objective, eval_metric = self.metric, \n",
    "                                         iterations=num_boost_round, **self.params)\n",
    "        self.clf.fit(X=X, y=y, cat_features=categorical, verbose_eval=verbose)\n",
    "        \n",
    "    def predict(self, X):\n",
    "        return self.clf.predict(X)\n",
    "    \n",
    "    def predict_proba(self, X):\n",
    "        return self.clf.predict_proba(X)\n",
    "    \n",
    "    def get_params(self, deep=True):\n",
    "        return self.params\n",
    "\n",
    "    def get_importance(self):\n",
    "        importance = {}\n",
    "        for key, val in zip(self.clf.feature_name(), self.clf.feature_importance()):\n",
    "            importance[key] = val\n",
    "        return importance\n",
    "\n",
    "    def plot_importance(self, N = 10):\n",
    "        importance = {}\n",
    "        for key, val in zip(self.clf.feature_name(), self.clf.feature_importance()):\n",
    "            importance[key] = val\n",
    "\n",
    "        import operator\n",
    "        importance = sorted(importance.items(), key=operator.itemgetter(1))\n",
    "\n",
    "        importance_df = pd.DataFrame(importance, columns=['feature', 'fscore'])\n",
    "        importance_df['fscore'] = importance_df['fscore'] / importance_df['fscore'].sum()\n",
    "\n",
    "        plt.figure()\n",
    "        importance_df[-N:].plot(kind='barh', x='feature', y='fscore', legend=False, figsize=(10, 5))\n",
    "        plt.title('XGBoost Feature Importance')\n",
    "        plt.xlabel('relative importance')\n",
    "        plt.ylabel('')\n",
    "        plt.show()\n",
    "    \n",
    "    def fit_eval(self, X, y, X_test, y_test, num_boost_round = None, early_stopping = 5,\n",
    "                 categorical=None, train_score=False, Min=True, print_out=False):\n",
    "        num_boost_round = num_boost_round or self.num_boost_round\n",
    "        \n",
    "        self.clf = cb.CatBoostRegressor(objective = self.objective, eval_metric = self.metric, \n",
    "                                    iterations=num_boost_round, od_type='Iter', od_wait=early_stopping, **self.params)\n",
    "\n",
    "        \n",
    "        if self.feval == None:\n",
    "            old_stdout = sys.stdout\n",
    "            result = StringIO()\n",
    "            sys.stdout = result\n",
    "            \n",
    "            self.clf.fit(X=X, y=y, eval_set=(X_test, y_test), use_best_model=True,\n",
    "                     cat_features=categorical, verbose_eval=50)\n",
    "            \n",
    "            sys.stdout = old_stdout\n",
    "            result_string = result.getvalue()\n",
    "        else:\n",
    "            print(\" Later :)\")\n",
    "#             self.params.update({'metric': 'None'})\n",
    "#             self.clf = lgb.train(params = self.params, train_set = dtrain, num_boost_round = num_boost_round,\n",
    "#                              valid_sets = [dtrain, dtest], valid_names = ['train', 'valid'],\n",
    "#                              verbose_eval = verbose_eval,\n",
    "# #                             feval = self.evalerror, \n",
    "#                              early_stopping_rounds = early_stopping)\n",
    "        \n",
    "        nstr = result_string.find(\"bestTest\")\n",
    "        score = float(result_string[nstr+11:nstr+20])\n",
    "\n",
    "        if print_out:\n",
    "#            print(\"Number of iteration: \", self.clf.tree_count_, \" Score: \", score)\n",
    "            return {\"iteration\":self.clf.tree_count_, \"score\":score} \n",
    "        else:\n",
    "            if Min:\n",
    "                return score\n",
    "            else:\n",
    "                return -score\n",
    "        \n",
    "    def fit_cv(self, X, y, cv, verbose_eval = False, num_boost_round = None, early_stopping = 5,\n",
    "                 categorical=None, print_out=False, Min=True):\n",
    "        \n",
    "        num_boost_round = num_boost_round or self.num_boost_round\n",
    "        \n",
    "        self.clf = cb.CatBoostRegressor(objective = self.objective, eval_metric = self.metric, \n",
    "                                    iterations=num_boost_round, od_type='Iter', od_wait=early_stopping, **self.params)\n",
    "        scores = []\n",
    "        \n",
    "        for i, (train_index, test_index) in enumerate(cv.split(X, y)):\n",
    "\n",
    "            if self.feval == None:\n",
    "                old_stdout = sys.stdout\n",
    "                result = StringIO()\n",
    "                sys.stdout = result\n",
    "                \n",
    "                self.clf.fit(X=X[train_index], y=y[train_index], eval_set=(X[test_index], y[test_index])\n",
    "                             , use_best_model=True, cat_features=categorical, verbose_eval=50)\n",
    "                \n",
    "                sys.stdout = old_stdout\n",
    "                result_string = result.getvalue()\n",
    "            else:\n",
    "                print(\" Later :)\")\n",
    "#                 self.params.update({'metric': 'None'})\n",
    "#                 self.clf = lgb.train(params = self.params, train_set = dtrain, num_boost_round = num_boost_round,\n",
    "#                              valid_sets = [dtrain, dtest], valid_names = ['train', 'valid'],\n",
    "#                              verbose_eval = verbose_eval,\n",
    "# #                             feval = self.evalerror, \n",
    "#                              early_stopping_rounds = early_stopping)\n",
    "            \n",
    "            nstr = result_string.find(\"bestTest\")\n",
    "            score = float(result_string[nstr+11:nstr+20])\n",
    "            scores.append(score)\n",
    "            \n",
    "            if print_out:\n",
    "                print(\"Kfold: \", i, \"Number of iteration: \", self.clf.tree_count_, \" Score: \", score)\n",
    "#                return {\"Kfold: \": i,\"iteration\":self.clf.tree_count_, \"score\":score}\n",
    "\n",
    "        if not print_out:\n",
    "            if Min:\n",
    "                return np.mean(scores)\n",
    "            else:\n",
    "                return -np.mean(scores)\n",
    "\n",
    "        \n",
    "    def grid(self, keys, comb, it=0):\n",
    "        if len(keys) == it:\n",
    "            return\n",
    "\n",
    "        for x in self.grid_params[keys[it]]:\n",
    "            comb.append(x)\n",
    "            self.grid(keys, comb, it+1)\n",
    "            if len(comb) == len(keys):\n",
    "                self.grid_list.append(comb[:])\n",
    "            comb.pop()\n",
    "    \n",
    "    def make_grid(self, **kwargs):\n",
    "        self.grid_list = []\n",
    "        self.grid_params = kwargs\n",
    "        print(self.params)\n",
    "        print(self.grid_params)\n",
    "        self.grid(list(self.grid_params.keys()), [])\n",
    "        print(\"Number of iteration for Optimization: \", len(self.grid_list))\n",
    "        \n",
    "    def optimization(self, X, y, X_test, y_test, verbose_eval = False, num_boost_round = None, early_stopping = 2,\n",
    "                     categorical=None):\n",
    "        \n",
    "        if categorical:\n",
    "            print(\"Used categorical features: \", categorical)\n",
    "            warnings.filterwarnings(\"ignore\")\n",
    "            \n",
    "        num_boost_round = num_boost_round or self.num_boost_round\n",
    "\n",
    "        col = list(self.grid_params.keys()) + ['iterations', 'score']\n",
    "        self.result = pd.DataFrame(columns=col)\n",
    "\n",
    "        for i in tqdm(range(len(self.grid_list))):\n",
    "#            temp = self.params\n",
    "            for j, key in enumerate(self.grid_params.keys()):\n",
    "                self.params[key] = self.grid_list[i][j]\n",
    "\n",
    "            if self.feval == None:\n",
    "                \n",
    "                out = self.fit_eval(X, y, X_test, y_test, num_boost_round = num_boost_round, early_stopping = early_stopping,\n",
    "                      categorical=categorical, train_score=False, Min=True, print_out=True)\n",
    "\n",
    "            else:\n",
    "                print(\" Later :)\")\n",
    "\n",
    "            \n",
    "\n",
    "            self.result = self.result.append(pd.DataFrame([self.grid_list[i] + [out[\"iteration\"], out[\"score\"]]], columns=col))\n",
    "    \n",
    "    def scores(self, N=4, Min=True):\n",
    "        return self.result.sort_values(\"score\", ascending=Min)[:N]\n",
    "    \n",
    "    def bayesian(self, X, y, X_test=None, y_test=None, cv=None, early_stopping = 5, ncalls = 10, seed=0,\n",
    "                 categorical=None, num_boost_round=None, warrning=False, Min=True, **kwargs):\n",
    "        \n",
    "        num_boost_round = num_boost_round or self.num_boost_round\n",
    "        \n",
    "        if not warrning:\n",
    "            print(\"Ignore UserWarning\")\n",
    "            warnings.filterwarnings(\"ignore\")\n",
    "        if cv:\n",
    "            print(\"CV optimization\")\n",
    "        print(kwargs)\n",
    "        space = []\n",
    "        for key, val in kwargs.items():\n",
    "            \n",
    "            if key == \"learning_rate\":\n",
    "                space.append(Real(val[0], val[1], \"log-uniform\", name='learning_rate'))\n",
    "            elif key == \"depth\":\n",
    "                space.append(Integer(val[0], val[1], name='depth'))\n",
    "            elif key == 'subsample': \n",
    "                space.append(Real(val[0], val[1], \"uniform\", name='subsample'))\n",
    "            elif key == 'colsample_bylevel': \n",
    "                space.append(Real(val[0], val[1], \"uniform\", name='colsample_bylevel'))\n",
    "            elif key == \"reg_lambda\":\n",
    "                space.append(Real(val[0], val[1], \"uniform\", name='reg_lambda'))\n",
    "            elif key == \"scale_pos_weight\":\n",
    "                space.append(Integer(val[0], val[1], name='scale_pos_weight'))\n",
    "            else:\n",
    "                print(\"Error: Invalid parameter\", key)\n",
    "        \n",
    "        print(space)\n",
    "                \n",
    "                \n",
    "        @use_named_args(space)\n",
    "        def objective(**params):\n",
    "            self.set_params(print_out=False, **params)\n",
    "            \n",
    "            if cv:\n",
    "                return self.fit_cv(X, y, cv, num_boost_round = num_boost_round, \n",
    "                                 categorical=categorical, early_stopping = early_stopping, Min=Min)\n",
    "            else:\n",
    "                return self.fit_eval(X, y, X_test, y_test, num_boost_round = num_boost_round, \n",
    "                                 categorical=categorical, early_stopping = early_stopping, Min=Min)\n",
    "        \n",
    "\n",
    "        res_gp = gp_minimize(objective, space, n_calls = ncalls, random_state=seed)\n",
    "    \n",
    "        plot_convergence(res_gp)\n",
    "        \n",
    "        col = list(kwargs.keys()) + ['score']\n",
    "        self.result = pd.DataFrame(columns=col)\n",
    "        \n",
    "        for val, score in zip(res_gp.x_iters, res_gp.func_vals):\n",
    "            self.result = self.result.append(pd.DataFrame([val + [score]], columns=col))"
   ]
  },
  {
   "cell_type": "markdown",
   "metadata": {},
   "source": [
    "# Create data set"
   ]
  },
  {
   "cell_type": "code",
   "execution_count": 4,
   "metadata": {
    "collapsed": true
   },
   "outputs": [],
   "source": [
    "from matplotlib.colors import ListedColormap\n",
    "from sklearn.model_selection import train_test_split\n",
    "from sklearn.preprocessing import StandardScaler\n",
    "from sklearn.datasets import make_regression"
   ]
  },
  {
   "cell_type": "code",
   "execution_count": 17,
   "metadata": {},
   "outputs": [
    {
     "data": {
      "text/plain": [
       "<matplotlib.collections.PathCollection at 0x1a365b0588>"
      ]
     },
     "execution_count": 17,
     "metadata": {},
     "output_type": "execute_result"
    },
    {
     "data": {
      "image/png": "[encoded data removed]",
      "text/plain": [
       "<matplotlib.figure.Figure at 0x1a0ff4c9e8>"
      ]
     },
     "metadata": {},
     "output_type": "display_data"
    }
   ],
   "source": [
    "X, y = make_regression(n_samples=1000, n_features=1,\n",
    "                                      n_informative=1, noise=30)\n",
    "\n",
    "x_min, x_max = X[:, 0].min() - .5, X[:, 0].max() + .5\n",
    "y_min, y_max = y.min() - .5, y.max() + .5\n",
    "xx, yy = np.meshgrid(np.arange(x_min, x_max, 0.02),\n",
    "                     np.arange(y_min, y_max, 0.02))\n",
    "\n",
    "X = StandardScaler().fit_transform(X)\n",
    "X, X1, y, y1 = train_test_split(X, y, test_size=.4, random_state=42)\n",
    "\n",
    "# # just plot the dataset first\n",
    "# figure = plt.figure(figsize=(8, 6))\n",
    "# cm = plt.cm.RdBu\n",
    "# cm_bright = ListedColormap(['#FF0000', '#0000FF'])\n",
    "# #ax = plt.subplot(len(datasets), len(classifiers) + 1, i)\n",
    "\n",
    "# # Plot the training points\n",
    "plt.scatter(X[:, 0], y, edgecolors='k')\n",
    "# # and testing points\n",
    "plt.scatter(X1[:, 0], y1, alpha=0.6, edgecolors='k')"
   ]
  },
  {
   "cell_type": "markdown",
   "metadata": {},
   "source": [
    "# simple fit"
   ]
  },
  {
   "cell_type": "code",
   "execution_count": 46,
   "metadata": {},
   "outputs": [
    {
     "name": "stdout",
     "output_type": "stream",
     "text": [
      "Built a CatBoost with defiend objective function\n",
      "{'learning_rate': 0.1, 'depth': 7, 'random_seed': 123}\n"
     ]
    }
   ],
   "source": [
    "clf = CLF(objective='RMSE', metric='MAE', learning_rate=0.1, depth=7, random_seed=123)"
   ]
  },
  {
   "cell_type": "code",
   "execution_count": 47,
   "metadata": {},
   "outputs": [
    {
     "name": "stdout",
     "output_type": "stream",
     "text": [
      "0:\tlearn: 41.8623143\ttotal: 2.88ms\tremaining: 285ms\n",
      "10:\tlearn: 27.9475054\ttotal: 29.9ms\tremaining: 242ms\n",
      "20:\tlearn: 25.1126269\ttotal: 56.2ms\tremaining: 211ms\n",
      "30:\tlearn: 24.4780111\ttotal: 82.6ms\tremaining: 184ms\n",
      "40:\tlearn: 24.2994909\ttotal: 105ms\tremaining: 151ms\n",
      "50:\tlearn: 24.2481856\ttotal: 124ms\tremaining: 119ms\n",
      "60:\tlearn: 24.1702608\ttotal: 144ms\tremaining: 92.2ms\n",
      "70:\tlearn: 24.0331465\ttotal: 162ms\tremaining: 66.3ms\n",
      "80:\tlearn: 23.8105594\ttotal: 182ms\tremaining: 42.7ms\n",
      "90:\tlearn: 23.6712680\ttotal: 208ms\tremaining: 20.6ms\n"
     ]
    }
   ],
   "source": [
    "clf.fit(X, y, num_boost_round=100, verbose=10)"
   ]
  },
  {
   "cell_type": "code",
   "execution_count": 48,
   "metadata": {
    "collapsed": true
   },
   "outputs": [],
   "source": [
    "y_pred = clf.predict(X1)"
   ]
  },
  {
   "cell_type": "code",
   "execution_count": 49,
   "metadata": {},
   "outputs": [
    {
     "data": {
      "text/plain": [
       "953.04843122372574"
      ]
     },
     "execution_count": 49,
     "metadata": {},
     "output_type": "execute_result"
    }
   ],
   "source": [
    "from sklearn.metrics import mean_squared_error\n",
    "mean_squared_error(y1, y_pred)"
   ]
  },
  {
   "cell_type": "code",
   "execution_count": 50,
   "metadata": {},
   "outputs": [
    {
     "data": {
      "text/plain": [
       "24.518729684225409"
      ]
     },
     "execution_count": 50,
     "metadata": {},
     "output_type": "execute_result"
    }
   ],
   "source": [
    "from sklearn.metrics import mean_absolute_error\n",
    "mean_absolute_error(y1, y_pred) "
   ]
  },
  {
   "cell_type": "markdown",
   "metadata": {},
   "source": [
    "# early stop"
   ]
  },
  {
   "cell_type": "code",
   "execution_count": 51,
   "metadata": {},
   "outputs": [
    {
     "data": {
      "text/plain": [
       "{'iteration': 50, 'score': 24.245125}"
      ]
     },
     "execution_count": 51,
     "metadata": {},
     "output_type": "execute_result"
    }
   ],
   "source": [
    "clf.fit_eval(X, y, X1, y1, num_boost_round=50, early_stopping=5, print_out=True)"
   ]
  },
  {
   "cell_type": "code",
   "execution_count": 52,
   "metadata": {},
   "outputs": [
    {
     "data": {
      "text/plain": [
       "24.245125792245034"
      ]
     },
     "execution_count": 52,
     "metadata": {},
     "output_type": "execute_result"
    }
   ],
   "source": [
    "y_pred = clf.predict(X1)\n",
    "mean_absolute_error(y1, y_pred) "
   ]
  },
  {
   "cell_type": "markdown",
   "metadata": {},
   "source": [
    "# Grid Search"
   ]
  },
  {
   "cell_type": "code",
   "execution_count": 53,
   "metadata": {
    "collapsed": true
   },
   "outputs": [],
   "source": [
    "params = {\n",
    "    'learning_rate': 0.05,\n",
    "    'depth': 6,  # we should let it be smaller than 2^(max_depth)\n",
    "    'max_bin': 255,  # Number of bucketed bin for feature values\n",
    "    'bootstrap_type': \"Bernoulli\", # Bernoulli, Bayesian\n",
    "    'subsample': 0.9,  # Subsample ratio of the training instance.\n",
    "#    'sampling_frequency': \"PerTree\",  # PerTree, PerTreeLevel\n",
    "    'colsample_bylevel': 0.9,  # Subsample ratio of columns when constructing each tree.\n",
    "    'reg_lambda': 0,  # L2 regularization term on weights\n",
    "#    'scale_pos_weight': 1,\n",
    "#    'class_weights' :  # for imbalance data\n",
    "    'calc_feature_importance': False}"
   ]
  },
  {
   "cell_type": "code",
   "execution_count": 54,
   "metadata": {},
   "outputs": [
    {
     "name": "stdout",
     "output_type": "stream",
     "text": [
      "{'learning_rate': 0.05, 'depth': 6, 'random_seed': 123, 'max_bin': 255, 'bootstrap_type': 'Bernoulli', 'subsample': 0.9, 'colsample_bylevel': 0.9, 'reg_lambda': 0, 'calc_feature_importance': False}\n"
     ]
    }
   ],
   "source": [
    "clf.set_params_dic(params)"
   ]
  },
  {
   "cell_type": "code",
   "execution_count": 55,
   "metadata": {},
   "outputs": [
    {
     "name": "stdout",
     "output_type": "stream",
     "text": [
      "{'learning_rate': 0.05, 'depth': 6, 'random_seed': 123, 'max_bin': 255, 'bootstrap_type': 'Bernoulli', 'subsample': 0.9, 'colsample_bylevel': 0.9, 'reg_lambda': 0, 'calc_feature_importance': False}\n",
      "{'learning_rate': [0.01, 0.05, 0.1], 'depth': [5, 6, 7, 8]}\n",
      "Number of iteration for Optimization:  12\n"
     ]
    }
   ],
   "source": [
    "clf.make_grid(learning_rate = [0.01, 0.05, 0.1], depth = [5, 6, 7, 8])"
   ]
  },
  {
   "cell_type": "code",
   "execution_count": 56,
   "metadata": {},
   "outputs": [
    {
     "name": "stderr",
     "output_type": "stream",
     "text": [
      "100%|██████████| 12/12 [00:04<00:00,  2.59it/s]\n"
     ]
    }
   ],
   "source": [
    "clf.optimization(X, y, X1, y1, num_boost_round=500, early_stopping=5)"
   ]
  },
  {
   "cell_type": "code",
   "execution_count": 57,
   "metadata": {},
   "outputs": [
    {
     "data": {
      "text/html": [
       "<div>\n",
       "<style>\n",
       "    .dataframe thead tr:only-child th {\n",
       "        text-align: right;\n",
       "    }\n",
       "\n",
       "    .dataframe thead th {\n",
       "        text-align: left;\n",
       "    }\n",
       "\n",
       "    .dataframe tbody tr th {\n",
       "        vertical-align: top;\n",
       "    }\n",
       "</style>\n",
       "<table border=\"1\" class=\"dataframe\">\n",
       "  <thead>\n",
       "    <tr style=\"text-align: right;\">\n",
       "      <th></th>\n",
       "      <th>learning_rate</th>\n",
       "      <th>depth</th>\n",
       "      <th>iterations</th>\n",
       "      <th>score</th>\n",
       "    </tr>\n",
       "  </thead>\n",
       "  <tbody>\n",
       "    <tr>\n",
       "      <th>0</th>\n",
       "      <td>0.05</td>\n",
       "      <td>5</td>\n",
       "      <td>97</td>\n",
       "      <td>24.165599</td>\n",
       "    </tr>\n",
       "    <tr>\n",
       "      <th>0</th>\n",
       "      <td>0.10</td>\n",
       "      <td>6</td>\n",
       "      <td>59</td>\n",
       "      <td>24.202285</td>\n",
       "    </tr>\n",
       "    <tr>\n",
       "      <th>0</th>\n",
       "      <td>0.01</td>\n",
       "      <td>7</td>\n",
       "      <td>473</td>\n",
       "      <td>24.230352</td>\n",
       "    </tr>\n",
       "    <tr>\n",
       "      <th>0</th>\n",
       "      <td>0.05</td>\n",
       "      <td>6</td>\n",
       "      <td>95</td>\n",
       "      <td>24.253026</td>\n",
       "    </tr>\n",
       "  </tbody>\n",
       "</table>\n",
       "</div>"
      ],
      "text/plain": [
       "   learning_rate depth iterations      score\n",
       "0           0.05     5         97  24.165599\n",
       "0           0.10     6         59  24.202285\n",
       "0           0.01     7        473  24.230352\n",
       "0           0.05     6         95  24.253026"
      ]
     },
     "execution_count": 57,
     "metadata": {},
     "output_type": "execute_result"
    }
   ],
   "source": [
    "clf.scores()"
   ]
  },
  {
   "cell_type": "code",
   "execution_count": 58,
   "metadata": {},
   "outputs": [
    {
     "name": "stdout",
     "output_type": "stream",
     "text": [
      "{'learning_rate': 0.1, 'depth': 8, 'random_seed': 123, 'max_bin': 255, 'bootstrap_type': 'Bernoulli', 'subsample': 0.9, 'colsample_bylevel': 0.9, 'reg_lambda': 0, 'calc_feature_importance': False}\n",
      "{'learning_rate': 0.050000000000000003, 'depth': 5, 'random_seed': 123, 'max_bin': 255, 'bootstrap_type': 'Bernoulli', 'subsample': 0.9, 'colsample_bylevel': 0.9, 'reg_lambda': 0, 'calc_feature_importance': False}\n"
     ]
    }
   ],
   "source": [
    "clf.set_params_scores(clf.scores(), N=0)"
   ]
  },
  {
   "cell_type": "code",
   "execution_count": 59,
   "metadata": {
    "collapsed": true
   },
   "outputs": [],
   "source": [
    "clf.fit(X, y)"
   ]
  },
  {
   "cell_type": "code",
   "execution_count": 61,
   "metadata": {},
   "outputs": [
    {
     "data": {
      "text/plain": [
       "24.165599793051996"
      ]
     },
     "execution_count": 61,
     "metadata": {},
     "output_type": "execute_result"
    }
   ],
   "source": [
    "y_pred = clf.predict(X1)\n",
    "\n",
    "mean_absolute_error(y1, y_pred) "
   ]
  },
  {
   "cell_type": "markdown",
   "metadata": {},
   "source": [
    "# CV "
   ]
  },
  {
   "cell_type": "code",
   "execution_count": 62,
   "metadata": {
    "collapsed": true
   },
   "outputs": [],
   "source": [
    "from sklearn.model_selection import KFold\n",
    "kf = KFold(n_splits=3)"
   ]
  },
  {
   "cell_type": "code",
   "execution_count": 63,
   "metadata": {},
   "outputs": [
    {
     "name": "stdout",
     "output_type": "stream",
     "text": [
      "Kfold:  0 Number of iteration:  70  Score:  24.675177\n",
      "Kfold:  1 Number of iteration:  60  Score:  25.922118\n",
      "Kfold:  2 Number of iteration:  151  Score:  24.461685\n"
     ]
    }
   ],
   "source": [
    "clf.fit_cv(X, y, kf, verbose_eval = False, num_boost_round = 1000, early_stopping = 5, print_out=True)"
   ]
  },
  {
   "cell_type": "markdown",
   "metadata": {},
   "source": [
    "# Bayesin"
   ]
  },
  {
   "cell_type": "code",
   "execution_count": 64,
   "metadata": {},
   "outputs": [
    {
     "name": "stdout",
     "output_type": "stream",
     "text": [
      "Ignore UserWarning\n",
      "{'learning_rate': [0.01, 0.1], 'depth': [4, 10]}\n",
      "[Real(low=0.01, high=0.1, prior='log-uniform', transform='identity'), Integer(low=4, high=10)]\n"
     ]
    },
    {
     "data": {
      "image/png": "[encoded data removed]",
      "text/plain": [
       "<matplotlib.figure.Figure at 0x1a365c5ba8>"
      ]
     },
     "metadata": {},
     "output_type": "display_data"
    }
   ],
   "source": [
    "clf.bayesian(X, y, X1, y1, ncalls=20, num_boost_round=100, learning_rate = [0.01, 0.1], depth = [4, 10])"
   ]
  },
  {
   "cell_type": "code",
   "execution_count": 65,
   "metadata": {},
   "outputs": [
    {
     "data": {
      "text/html": [
       "<div>\n",
       "<style>\n",
       "    .dataframe thead tr:only-child th {\n",
       "        text-align: right;\n",
       "    }\n",
       "\n",
       "    .dataframe thead th {\n",
       "        text-align: left;\n",
       "    }\n",
       "\n",
       "    .dataframe tbody tr th {\n",
       "        vertical-align: top;\n",
       "    }\n",
       "</style>\n",
       "<table border=\"1\" class=\"dataframe\">\n",
       "  <thead>\n",
       "    <tr style=\"text-align: right;\">\n",
       "      <th></th>\n",
       "      <th>learning_rate</th>\n",
       "      <th>depth</th>\n",
       "      <th>score</th>\n",
       "    </tr>\n",
       "  </thead>\n",
       "  <tbody>\n",
       "    <tr>\n",
       "      <th>0</th>\n",
       "      <td>0.088675</td>\n",
       "      <td>10</td>\n",
       "      <td>24.084116</td>\n",
       "    </tr>\n",
       "    <tr>\n",
       "      <th>0</th>\n",
       "      <td>0.088556</td>\n",
       "      <td>10</td>\n",
       "      <td>24.084494</td>\n",
       "    </tr>\n",
       "    <tr>\n",
       "      <th>0</th>\n",
       "      <td>0.088518</td>\n",
       "      <td>10</td>\n",
       "      <td>24.090604</td>\n",
       "    </tr>\n",
       "    <tr>\n",
       "      <th>0</th>\n",
       "      <td>0.051449</td>\n",
       "      <td>10</td>\n",
       "      <td>24.140190</td>\n",
       "    </tr>\n",
       "  </tbody>\n",
       "</table>\n",
       "</div>"
      ],
      "text/plain": [
       "   learning_rate depth      score\n",
       "0       0.088675    10  24.084116\n",
       "0       0.088556    10  24.084494\n",
       "0       0.088518    10  24.090604\n",
       "0       0.051449    10  24.140190"
      ]
     },
     "execution_count": 65,
     "metadata": {},
     "output_type": "execute_result"
    }
   ],
   "source": [
    "clf.scores()"
   ]
  },
  {
   "cell_type": "code",
   "execution_count": null,
   "metadata": {
    "collapsed": true
   },
   "outputs": [],
   "source": []
  }
 ],
 "metadata": {
  "kernelspec": {
   "display_name": "Python 3",
   "language": "python",
   "name": "python3"
  },
  "language_info": {
   "codemirror_mode": {
    "name": "ipython",
    "version": 3
   },
   "file_extension": ".py",
   "mimetype": "text/x-python",
   "name": "python",
   "nbconvert_exporter": "python",
   "pygments_lexer": "ipython3",
   "version": "3.6.3"
  }
 },
 "nbformat": 4,
 "nbformat_minor": 2
}
